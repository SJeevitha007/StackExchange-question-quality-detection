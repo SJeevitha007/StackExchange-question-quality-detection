{
  "nbformat": 4,
  "nbformat_minor": 0,
  "metadata": {
    "colab": {
      "provenance": [],
      "authorship_tag": "ABX9TyP9Lco8WRSGpDLWbOjfWSC9"
    },
    "kernelspec": {
      "name": "python3",
      "display_name": "Python 3"
    },
    "language_info": {
      "name": "python"
    }
  },
  "cells": [
    {
      "cell_type": "code",
      "execution_count": 5,
      "metadata": {
        "id": "S0yRSzPSrO2f",
        "colab": {
          "base_uri": "https://localhost:8080/"
        },
        "outputId": "cbb5666f-aaa7-40d1-931a-613d857a5884"
      },
      "outputs": [
        {
          "output_type": "stream",
          "name": "stdout",
          "text": [
            "Drive already mounted at /content/drive; to attempt to forcibly remount, call drive.mount(\"/content/drive\", force_remount=True).\n"
          ]
        }
      ],
      "source": [
        "from google.colab import drive\n",
        "drive.mount('/content/drive')"
      ]
    },
    {
      "cell_type": "code",
      "source": [
        "import pandas as pd\n",
        "import numpy as np\n",
        "import seaborn as sns\n",
        "import matplotlib.pyplot as plt\n",
        "from lxml import etree as et\n",
        "import numpy as np"
      ],
      "metadata": {
        "id": "fN80RIs44Dzy"
      },
      "execution_count": 6,
      "outputs": []
    },
    {
      "cell_type": "markdown",
      "source": [
        "**Parsing Xml file from Google drive**"
      ],
      "metadata": {
        "id": "I-lzqcOr64f_"
      }
    },
    {
      "cell_type": "code",
      "source": [
        "parser = et.XMLParser(recover=True)\n",
        "tree=et.parse('/content/drive/My Drive/Posts.xml',parser=parser)\n",
        "root=tree.getroot()"
      ],
      "metadata": {
        "id": "gtF2LqGi4FyN"
      },
      "execution_count": 7,
      "outputs": []
    },
    {
      "cell_type": "code",
      "source": [
        "lis=[]\n",
        "for child in root:\n",
        "  dic=child.attrib\n",
        "  lis.append(dic)\n",
        "df=pd.DataFrame(lis)\n",
        "df.to_csv(\"Posts.csv\",index=False)"
      ],
      "metadata": {
        "id": "UiR9hrwO4PsP"
      },
      "execution_count": 8,
      "outputs": []
    },
    {
      "cell_type": "markdown",
      "source": [
        "**Converted to Pandas DataFrame**"
      ],
      "metadata": {
        "id": "lriO3w-m7Boc"
      }
    },
    {
      "cell_type": "code",
      "source": [
        "df=pd.read_csv(\"Posts.csv\")\n",
        "df.head()"
      ],
      "metadata": {
        "colab": {
          "base_uri": "https://localhost:8080/",
          "height": 664
        },
        "id": "qK-qnblS2-tJ",
        "outputId": "fcf73b94-6bce-4b6c-bd23-dd66ae9b69a6"
      },
      "execution_count": 9,
      "outputs": [
        {
          "output_type": "execute_result",
          "data": {
            "text/plain": [
              "   AcceptedAnswerId  AnswerCount  \\\n",
              "0               5.0          5.0   \n",
              "1            5704.0          4.0   \n",
              "2             180.0          3.0   \n",
              "3               NaN          NaN   \n",
              "4               NaN          NaN   \n",
              "\n",
              "                                                Body ClosedDate  CommentCount  \\\n",
              "0  <p>I often hear about subatomic particles havi...        NaN             5   \n",
              "1  <p>How would you explain string theory to non ...        NaN             4   \n",
              "2  <p>This is a question that has been posted at ...        NaN             5   \n",
              "3  <p>Imagine going to the rest frame of a massiv...        NaN             3   \n",
              "4  <p>Spin is a technical term specifically refer...        NaN             0   \n",
              "\n",
              "  CommunityOwnedDate             CreationDate  FavoriteCount  Id  \\\n",
              "0                NaN  2010-11-02T18:59:01.140           27.0   1   \n",
              "1                NaN  2010-11-02T19:09:48.680            8.0   2   \n",
              "2                NaN  2010-11-02T19:11:05.857           13.0   3   \n",
              "3                NaN  2010-11-02T19:12:26.543            NaN   4   \n",
              "4                NaN  2010-11-02T19:15:20.813            NaN   5   \n",
              "\n",
              "          LastActivityDate  ... LastEditorDisplayName LastEditorUserId  \\\n",
              "0  2018-04-29T07:55:39.087  ...                   NaN            520.0   \n",
              "1  2018-12-17T16:03:14.737  ...                   NaN           2451.0   \n",
              "2  2013-03-09T16:47:46.040  ...                   NaN           2451.0   \n",
              "3  2010-11-02T19:12:26.543  ...                   NaN              NaN   \n",
              "4  2017-12-13T08:24:54.477  ...                   NaN          75633.0   \n",
              "\n",
              "   OwnerDisplayName OwnerUserId  ParentId  PostTypeId  Score  \\\n",
              "0               NaN         7.0       NaN           1     76   \n",
              "1               NaN        23.0       NaN           1     29   \n",
              "2               NaN        40.0       NaN           1     35   \n",
              "3               NaN        20.0       1.0           2     22   \n",
              "4               NaN        13.0       1.0           2     48   \n",
              "\n",
              "                                                Tags  \\\n",
              "0  <quantum-mechanics><particle-physics><angular-...   \n",
              "1                         <string-theory><education>   \n",
              "2  <particle-physics><group-theory><representatio...   \n",
              "3                                                NaN   \n",
              "4                                                NaN   \n",
              "\n",
              "                                               Title ViewCount  \n",
              "0  What is spin as it relates to subatomic partic...   13803.0  \n",
              "1  What is your simplest explanation of the strin...    2641.0  \n",
              "2   Lie theory, Representations and particle physics    2412.0  \n",
              "3                                                NaN       NaN  \n",
              "4                                                NaN       NaN  \n",
              "\n",
              "[5 rows x 21 columns]"
            ],
            "text/html": [
              "\n",
              "  <div id=\"df-8a829cae-7e1a-43b5-a552-4ae5f37bc0e0\">\n",
              "    <div class=\"colab-df-container\">\n",
              "      <div>\n",
              "<style scoped>\n",
              "    .dataframe tbody tr th:only-of-type {\n",
              "        vertical-align: middle;\n",
              "    }\n",
              "\n",
              "    .dataframe tbody tr th {\n",
              "        vertical-align: top;\n",
              "    }\n",
              "\n",
              "    .dataframe thead th {\n",
              "        text-align: right;\n",
              "    }\n",
              "</style>\n",
              "<table border=\"1\" class=\"dataframe\">\n",
              "  <thead>\n",
              "    <tr style=\"text-align: right;\">\n",
              "      <th></th>\n",
              "      <th>AcceptedAnswerId</th>\n",
              "      <th>AnswerCount</th>\n",
              "      <th>Body</th>\n",
              "      <th>ClosedDate</th>\n",
              "      <th>CommentCount</th>\n",
              "      <th>CommunityOwnedDate</th>\n",
              "      <th>CreationDate</th>\n",
              "      <th>FavoriteCount</th>\n",
              "      <th>Id</th>\n",
              "      <th>LastActivityDate</th>\n",
              "      <th>...</th>\n",
              "      <th>LastEditorDisplayName</th>\n",
              "      <th>LastEditorUserId</th>\n",
              "      <th>OwnerDisplayName</th>\n",
              "      <th>OwnerUserId</th>\n",
              "      <th>ParentId</th>\n",
              "      <th>PostTypeId</th>\n",
              "      <th>Score</th>\n",
              "      <th>Tags</th>\n",
              "      <th>Title</th>\n",
              "      <th>ViewCount</th>\n",
              "    </tr>\n",
              "  </thead>\n",
              "  <tbody>\n",
              "    <tr>\n",
              "      <th>0</th>\n",
              "      <td>5.0</td>\n",
              "      <td>5.0</td>\n",
              "      <td>&lt;p&gt;I often hear about subatomic particles havi...</td>\n",
              "      <td>NaN</td>\n",
              "      <td>5</td>\n",
              "      <td>NaN</td>\n",
              "      <td>2010-11-02T18:59:01.140</td>\n",
              "      <td>27.0</td>\n",
              "      <td>1</td>\n",
              "      <td>2018-04-29T07:55:39.087</td>\n",
              "      <td>...</td>\n",
              "      <td>NaN</td>\n",
              "      <td>520.0</td>\n",
              "      <td>NaN</td>\n",
              "      <td>7.0</td>\n",
              "      <td>NaN</td>\n",
              "      <td>1</td>\n",
              "      <td>76</td>\n",
              "      <td>&lt;quantum-mechanics&gt;&lt;particle-physics&gt;&lt;angular-...</td>\n",
              "      <td>What is spin as it relates to subatomic partic...</td>\n",
              "      <td>13803.0</td>\n",
              "    </tr>\n",
              "    <tr>\n",
              "      <th>1</th>\n",
              "      <td>5704.0</td>\n",
              "      <td>4.0</td>\n",
              "      <td>&lt;p&gt;How would you explain string theory to non ...</td>\n",
              "      <td>NaN</td>\n",
              "      <td>4</td>\n",
              "      <td>NaN</td>\n",
              "      <td>2010-11-02T19:09:48.680</td>\n",
              "      <td>8.0</td>\n",
              "      <td>2</td>\n",
              "      <td>2018-12-17T16:03:14.737</td>\n",
              "      <td>...</td>\n",
              "      <td>NaN</td>\n",
              "      <td>2451.0</td>\n",
              "      <td>NaN</td>\n",
              "      <td>23.0</td>\n",
              "      <td>NaN</td>\n",
              "      <td>1</td>\n",
              "      <td>29</td>\n",
              "      <td>&lt;string-theory&gt;&lt;education&gt;</td>\n",
              "      <td>What is your simplest explanation of the strin...</td>\n",
              "      <td>2641.0</td>\n",
              "    </tr>\n",
              "    <tr>\n",
              "      <th>2</th>\n",
              "      <td>180.0</td>\n",
              "      <td>3.0</td>\n",
              "      <td>&lt;p&gt;This is a question that has been posted at ...</td>\n",
              "      <td>NaN</td>\n",
              "      <td>5</td>\n",
              "      <td>NaN</td>\n",
              "      <td>2010-11-02T19:11:05.857</td>\n",
              "      <td>13.0</td>\n",
              "      <td>3</td>\n",
              "      <td>2013-03-09T16:47:46.040</td>\n",
              "      <td>...</td>\n",
              "      <td>NaN</td>\n",
              "      <td>2451.0</td>\n",
              "      <td>NaN</td>\n",
              "      <td>40.0</td>\n",
              "      <td>NaN</td>\n",
              "      <td>1</td>\n",
              "      <td>35</td>\n",
              "      <td>&lt;particle-physics&gt;&lt;group-theory&gt;&lt;representatio...</td>\n",
              "      <td>Lie theory, Representations and particle physics</td>\n",
              "      <td>2412.0</td>\n",
              "    </tr>\n",
              "    <tr>\n",
              "      <th>3</th>\n",
              "      <td>NaN</td>\n",
              "      <td>NaN</td>\n",
              "      <td>&lt;p&gt;Imagine going to the rest frame of a massiv...</td>\n",
              "      <td>NaN</td>\n",
              "      <td>3</td>\n",
              "      <td>NaN</td>\n",
              "      <td>2010-11-02T19:12:26.543</td>\n",
              "      <td>NaN</td>\n",
              "      <td>4</td>\n",
              "      <td>2010-11-02T19:12:26.543</td>\n",
              "      <td>...</td>\n",
              "      <td>NaN</td>\n",
              "      <td>NaN</td>\n",
              "      <td>NaN</td>\n",
              "      <td>20.0</td>\n",
              "      <td>1.0</td>\n",
              "      <td>2</td>\n",
              "      <td>22</td>\n",
              "      <td>NaN</td>\n",
              "      <td>NaN</td>\n",
              "      <td>NaN</td>\n",
              "    </tr>\n",
              "    <tr>\n",
              "      <th>4</th>\n",
              "      <td>NaN</td>\n",
              "      <td>NaN</td>\n",
              "      <td>&lt;p&gt;Spin is a technical term specifically refer...</td>\n",
              "      <td>NaN</td>\n",
              "      <td>0</td>\n",
              "      <td>NaN</td>\n",
              "      <td>2010-11-02T19:15:20.813</td>\n",
              "      <td>NaN</td>\n",
              "      <td>5</td>\n",
              "      <td>2017-12-13T08:24:54.477</td>\n",
              "      <td>...</td>\n",
              "      <td>NaN</td>\n",
              "      <td>75633.0</td>\n",
              "      <td>NaN</td>\n",
              "      <td>13.0</td>\n",
              "      <td>1.0</td>\n",
              "      <td>2</td>\n",
              "      <td>48</td>\n",
              "      <td>NaN</td>\n",
              "      <td>NaN</td>\n",
              "      <td>NaN</td>\n",
              "    </tr>\n",
              "  </tbody>\n",
              "</table>\n",
              "<p>5 rows × 21 columns</p>\n",
              "</div>\n",
              "      <button class=\"colab-df-convert\" onclick=\"convertToInteractive('df-8a829cae-7e1a-43b5-a552-4ae5f37bc0e0')\"\n",
              "              title=\"Convert this dataframe to an interactive table.\"\n",
              "              style=\"display:none;\">\n",
              "        \n",
              "  <svg xmlns=\"http://www.w3.org/2000/svg\" height=\"24px\"viewBox=\"0 0 24 24\"\n",
              "       width=\"24px\">\n",
              "    <path d=\"M0 0h24v24H0V0z\" fill=\"none\"/>\n",
              "    <path d=\"M18.56 5.44l.94 2.06.94-2.06 2.06-.94-2.06-.94-.94-2.06-.94 2.06-2.06.94zm-11 1L8.5 8.5l.94-2.06 2.06-.94-2.06-.94L8.5 2.5l-.94 2.06-2.06.94zm10 10l.94 2.06.94-2.06 2.06-.94-2.06-.94-.94-2.06-.94 2.06-2.06.94z\"/><path d=\"M17.41 7.96l-1.37-1.37c-.4-.4-.92-.59-1.43-.59-.52 0-1.04.2-1.43.59L10.3 9.45l-7.72 7.72c-.78.78-.78 2.05 0 2.83L4 21.41c.39.39.9.59 1.41.59.51 0 1.02-.2 1.41-.59l7.78-7.78 2.81-2.81c.8-.78.8-2.07 0-2.86zM5.41 20L4 18.59l7.72-7.72 1.47 1.35L5.41 20z\"/>\n",
              "  </svg>\n",
              "      </button>\n",
              "      \n",
              "  <style>\n",
              "    .colab-df-container {\n",
              "      display:flex;\n",
              "      flex-wrap:wrap;\n",
              "      gap: 12px;\n",
              "    }\n",
              "\n",
              "    .colab-df-convert {\n",
              "      background-color: #E8F0FE;\n",
              "      border: none;\n",
              "      border-radius: 50%;\n",
              "      cursor: pointer;\n",
              "      display: none;\n",
              "      fill: #1967D2;\n",
              "      height: 32px;\n",
              "      padding: 0 0 0 0;\n",
              "      width: 32px;\n",
              "    }\n",
              "\n",
              "    .colab-df-convert:hover {\n",
              "      background-color: #E2EBFA;\n",
              "      box-shadow: 0px 1px 2px rgba(60, 64, 67, 0.3), 0px 1px 3px 1px rgba(60, 64, 67, 0.15);\n",
              "      fill: #174EA6;\n",
              "    }\n",
              "\n",
              "    [theme=dark] .colab-df-convert {\n",
              "      background-color: #3B4455;\n",
              "      fill: #D2E3FC;\n",
              "    }\n",
              "\n",
              "    [theme=dark] .colab-df-convert:hover {\n",
              "      background-color: #434B5C;\n",
              "      box-shadow: 0px 1px 3px 1px rgba(0, 0, 0, 0.15);\n",
              "      filter: drop-shadow(0px 1px 2px rgba(0, 0, 0, 0.3));\n",
              "      fill: #FFFFFF;\n",
              "    }\n",
              "  </style>\n",
              "\n",
              "      <script>\n",
              "        const buttonEl =\n",
              "          document.querySelector('#df-8a829cae-7e1a-43b5-a552-4ae5f37bc0e0 button.colab-df-convert');\n",
              "        buttonEl.style.display =\n",
              "          google.colab.kernel.accessAllowed ? 'block' : 'none';\n",
              "\n",
              "        async function convertToInteractive(key) {\n",
              "          const element = document.querySelector('#df-8a829cae-7e1a-43b5-a552-4ae5f37bc0e0');\n",
              "          const dataTable =\n",
              "            await google.colab.kernel.invokeFunction('convertToInteractive',\n",
              "                                                     [key], {});\n",
              "          if (!dataTable) return;\n",
              "\n",
              "          const docLinkHtml = 'Like what you see? Visit the ' +\n",
              "            '<a target=\"_blank\" href=https://colab.research.google.com/notebooks/data_table.ipynb>data table notebook</a>'\n",
              "            + ' to learn more about interactive tables.';\n",
              "          element.innerHTML = '';\n",
              "          dataTable['output_type'] = 'display_data';\n",
              "          await google.colab.output.renderOutput(dataTable, element);\n",
              "          const docLink = document.createElement('div');\n",
              "          docLink.innerHTML = docLinkHtml;\n",
              "          element.appendChild(docLink);\n",
              "        }\n",
              "      </script>\n",
              "    </div>\n",
              "  </div>\n",
              "  "
            ]
          },
          "metadata": {},
          "execution_count": 9
        }
      ]
    },
    {
      "cell_type": "code",
      "source": [
        "df.shape"
      ],
      "metadata": {
        "colab": {
          "base_uri": "https://localhost:8080/"
        },
        "id": "mBGglvq74dCe",
        "outputId": "edc9ebbc-d243-4e29-cadc-69964fee88a9"
      },
      "execution_count": 10,
      "outputs": [
        {
          "output_type": "execute_result",
          "data": {
            "text/plain": [
              "(345199, 21)"
            ]
          },
          "metadata": {},
          "execution_count": 10
        }
      ]
    },
    {
      "cell_type": "code",
      "source": [
        "df=df.drop_duplicates()"
      ],
      "metadata": {
        "id": "zLPs8mIs4m91"
      },
      "execution_count": 11,
      "outputs": []
    },
    {
      "cell_type": "markdown",
      "source": [
        "**Removing all the rows which doesn't have Tags,Title and Body also the PostTypeId's from 3 to 7.**"
      ],
      "metadata": {
        "id": "ZDtrzj4T7KKQ"
      }
    },
    {
      "cell_type": "code",
      "source": [
        "df=df[~((df[\"Tags\"].isnull())&(df[\"Title\"].isnull())&(df[\"Body\"].isnull()))]"
      ],
      "metadata": {
        "id": "rV44ZucA4p4s"
      },
      "execution_count": 12,
      "outputs": []
    },
    {
      "cell_type": "code",
      "source": [
        "df=df[~((df[\"PostTypeId\"]==3) | (df[\"PostTypeId\"]==4) | (df[\"PostTypeId\"]==5) | (df[\"PostTypeId\"]==6)  |(df[\"PostTypeId\"]==7)) ]"
      ],
      "metadata": {
        "id": "7H2-yCjH4sE1"
      },
      "execution_count": 13,
      "outputs": []
    },
    {
      "cell_type": "code",
      "source": [
        "df.shape"
      ],
      "metadata": {
        "colab": {
          "base_uri": "https://localhost:8080/"
        },
        "id": "XOdDjQZD4tMM",
        "outputId": "dbb6069b-cdee-4f9f-8986-046a989d7b0b"
      },
      "execution_count": 14,
      "outputs": [
        {
          "output_type": "execute_result",
          "data": {
            "text/plain": [
              "(343851, 21)"
            ]
          },
          "metadata": {},
          "execution_count": 14
        }
      ]
    },
    {
      "cell_type": "code",
      "source": [
        "df.dtypes"
      ],
      "metadata": {
        "colab": {
          "base_uri": "https://localhost:8080/"
        },
        "id": "5G1Hg9Ok431Z",
        "outputId": "125a8ede-bd4f-4c51-b4c7-de9eae857180"
      },
      "execution_count": 15,
      "outputs": [
        {
          "output_type": "execute_result",
          "data": {
            "text/plain": [
              "AcceptedAnswerId         float64\n",
              "AnswerCount              float64\n",
              "Body                      object\n",
              "ClosedDate                object\n",
              "CommentCount               int64\n",
              "CommunityOwnedDate        object\n",
              "CreationDate              object\n",
              "FavoriteCount            float64\n",
              "Id                         int64\n",
              "LastActivityDate          object\n",
              "LastEditDate              object\n",
              "LastEditorDisplayName     object\n",
              "LastEditorUserId         float64\n",
              "OwnerDisplayName          object\n",
              "OwnerUserId              float64\n",
              "ParentId                 float64\n",
              "PostTypeId                 int64\n",
              "Score                      int64\n",
              "Tags                      object\n",
              "Title                     object\n",
              "ViewCount                float64\n",
              "dtype: object"
            ]
          },
          "metadata": {},
          "execution_count": 15
        }
      ]
    },
    {
      "cell_type": "code",
      "source": [
        "df.isnull().sum()"
      ],
      "metadata": {
        "colab": {
          "base_uri": "https://localhost:8080/"
        },
        "id": "Zy060u0S457y",
        "outputId": "cc00ff97-849a-4b68-ee28-0e584d9b1000"
      },
      "execution_count": 16,
      "outputs": [
        {
          "output_type": "execute_result",
          "data": {
            "text/plain": [
              "AcceptedAnswerId         283800\n",
              "AnswerCount              205141\n",
              "Body                          0\n",
              "ClosedDate               322804\n",
              "CommentCount                  0\n",
              "CommunityOwnedDate       339818\n",
              "CreationDate                  0\n",
              "FavoriteCount            285575\n",
              "Id                            0\n",
              "LastActivityDate              0\n",
              "LastEditDate             175492\n",
              "LastEditorDisplayName    338050\n",
              "LastEditorUserId         180821\n",
              "OwnerDisplayName         331770\n",
              "OwnerUserId                9583\n",
              "ParentId                 138710\n",
              "PostTypeId                    0\n",
              "Score                         0\n",
              "Tags                     205141\n",
              "Title                    205141\n",
              "ViewCount                205141\n",
              "dtype: int64"
            ]
          },
          "metadata": {},
          "execution_count": 16
        }
      ]
    },
    {
      "cell_type": "code",
      "source": [
        "df.drop(['Tags','AcceptedAnswerId', 'ClosedDate', 'CommunityOwnedDate', 'CreationDate',  'Id','LastActivityDate', 'LastEditDate', 'LastEditorDisplayName',\n",
        "          'LastEditorUserId', 'OwnerDisplayName', 'OwnerUserId', 'ParentId','PostTypeId'],axis=1,inplace=True)"
      ],
      "metadata": {
        "id": "RhRroCjZ5IcO"
      },
      "execution_count": 17,
      "outputs": []
    },
    {
      "cell_type": "code",
      "source": [
        "df.shape"
      ],
      "metadata": {
        "colab": {
          "base_uri": "https://localhost:8080/"
        },
        "id": "iatDEmlk5KZt",
        "outputId": "40c2bc37-6537-4aa6-8a98-31c02a5eb368"
      },
      "execution_count": 18,
      "outputs": [
        {
          "output_type": "execute_result",
          "data": {
            "text/plain": [
              "(343851, 7)"
            ]
          },
          "metadata": {},
          "execution_count": 18
        }
      ]
    },
    {
      "cell_type": "code",
      "source": [
        "df.describe()"
      ],
      "metadata": {
        "colab": {
          "base_uri": "https://localhost:8080/",
          "height": 300
        },
        "id": "xSqHdJar5NU3",
        "outputId": "f2f8702e-6e36-4ac3-92db-45672b5b3c27"
      },
      "execution_count": 19,
      "outputs": [
        {
          "output_type": "execute_result",
          "data": {
            "text/plain": [
              "         AnswerCount   CommentCount  FavoriteCount          Score  \\\n",
              "count  138710.000000  343851.000000   58276.000000  343851.000000   \n",
              "mean        1.478920       1.963126       2.413738       2.733905   \n",
              "std         1.307238       2.831835       5.486853       7.580154   \n",
              "min         0.000000       0.000000       0.000000     -24.000000   \n",
              "25%         1.000000       0.000000       1.000000       0.000000   \n",
              "50%         1.000000       1.000000       1.000000       1.000000   \n",
              "75%         2.000000       3.000000       2.000000       3.000000   \n",
              "max        49.000000     114.000000     502.000000     726.000000   \n",
              "\n",
              "           ViewCount  \n",
              "count  138710.000000  \n",
              "mean     1320.033566  \n",
              "std      6404.536977  \n",
              "min         3.000000  \n",
              "25%        83.000000  \n",
              "50%       217.000000  \n",
              "75%       716.000000  \n",
              "max    785052.000000  "
            ],
            "text/html": [
              "\n",
              "  <div id=\"df-62466ebb-c251-45b5-9823-fa6a32262e33\">\n",
              "    <div class=\"colab-df-container\">\n",
              "      <div>\n",
              "<style scoped>\n",
              "    .dataframe tbody tr th:only-of-type {\n",
              "        vertical-align: middle;\n",
              "    }\n",
              "\n",
              "    .dataframe tbody tr th {\n",
              "        vertical-align: top;\n",
              "    }\n",
              "\n",
              "    .dataframe thead th {\n",
              "        text-align: right;\n",
              "    }\n",
              "</style>\n",
              "<table border=\"1\" class=\"dataframe\">\n",
              "  <thead>\n",
              "    <tr style=\"text-align: right;\">\n",
              "      <th></th>\n",
              "      <th>AnswerCount</th>\n",
              "      <th>CommentCount</th>\n",
              "      <th>FavoriteCount</th>\n",
              "      <th>Score</th>\n",
              "      <th>ViewCount</th>\n",
              "    </tr>\n",
              "  </thead>\n",
              "  <tbody>\n",
              "    <tr>\n",
              "      <th>count</th>\n",
              "      <td>138710.000000</td>\n",
              "      <td>343851.000000</td>\n",
              "      <td>58276.000000</td>\n",
              "      <td>343851.000000</td>\n",
              "      <td>138710.000000</td>\n",
              "    </tr>\n",
              "    <tr>\n",
              "      <th>mean</th>\n",
              "      <td>1.478920</td>\n",
              "      <td>1.963126</td>\n",
              "      <td>2.413738</td>\n",
              "      <td>2.733905</td>\n",
              "      <td>1320.033566</td>\n",
              "    </tr>\n",
              "    <tr>\n",
              "      <th>std</th>\n",
              "      <td>1.307238</td>\n",
              "      <td>2.831835</td>\n",
              "      <td>5.486853</td>\n",
              "      <td>7.580154</td>\n",
              "      <td>6404.536977</td>\n",
              "    </tr>\n",
              "    <tr>\n",
              "      <th>min</th>\n",
              "      <td>0.000000</td>\n",
              "      <td>0.000000</td>\n",
              "      <td>0.000000</td>\n",
              "      <td>-24.000000</td>\n",
              "      <td>3.000000</td>\n",
              "    </tr>\n",
              "    <tr>\n",
              "      <th>25%</th>\n",
              "      <td>1.000000</td>\n",
              "      <td>0.000000</td>\n",
              "      <td>1.000000</td>\n",
              "      <td>0.000000</td>\n",
              "      <td>83.000000</td>\n",
              "    </tr>\n",
              "    <tr>\n",
              "      <th>50%</th>\n",
              "      <td>1.000000</td>\n",
              "      <td>1.000000</td>\n",
              "      <td>1.000000</td>\n",
              "      <td>1.000000</td>\n",
              "      <td>217.000000</td>\n",
              "    </tr>\n",
              "    <tr>\n",
              "      <th>75%</th>\n",
              "      <td>2.000000</td>\n",
              "      <td>3.000000</td>\n",
              "      <td>2.000000</td>\n",
              "      <td>3.000000</td>\n",
              "      <td>716.000000</td>\n",
              "    </tr>\n",
              "    <tr>\n",
              "      <th>max</th>\n",
              "      <td>49.000000</td>\n",
              "      <td>114.000000</td>\n",
              "      <td>502.000000</td>\n",
              "      <td>726.000000</td>\n",
              "      <td>785052.000000</td>\n",
              "    </tr>\n",
              "  </tbody>\n",
              "</table>\n",
              "</div>\n",
              "      <button class=\"colab-df-convert\" onclick=\"convertToInteractive('df-62466ebb-c251-45b5-9823-fa6a32262e33')\"\n",
              "              title=\"Convert this dataframe to an interactive table.\"\n",
              "              style=\"display:none;\">\n",
              "        \n",
              "  <svg xmlns=\"http://www.w3.org/2000/svg\" height=\"24px\"viewBox=\"0 0 24 24\"\n",
              "       width=\"24px\">\n",
              "    <path d=\"M0 0h24v24H0V0z\" fill=\"none\"/>\n",
              "    <path d=\"M18.56 5.44l.94 2.06.94-2.06 2.06-.94-2.06-.94-.94-2.06-.94 2.06-2.06.94zm-11 1L8.5 8.5l.94-2.06 2.06-.94-2.06-.94L8.5 2.5l-.94 2.06-2.06.94zm10 10l.94 2.06.94-2.06 2.06-.94-2.06-.94-.94-2.06-.94 2.06-2.06.94z\"/><path d=\"M17.41 7.96l-1.37-1.37c-.4-.4-.92-.59-1.43-.59-.52 0-1.04.2-1.43.59L10.3 9.45l-7.72 7.72c-.78.78-.78 2.05 0 2.83L4 21.41c.39.39.9.59 1.41.59.51 0 1.02-.2 1.41-.59l7.78-7.78 2.81-2.81c.8-.78.8-2.07 0-2.86zM5.41 20L4 18.59l7.72-7.72 1.47 1.35L5.41 20z\"/>\n",
              "  </svg>\n",
              "      </button>\n",
              "      \n",
              "  <style>\n",
              "    .colab-df-container {\n",
              "      display:flex;\n",
              "      flex-wrap:wrap;\n",
              "      gap: 12px;\n",
              "    }\n",
              "\n",
              "    .colab-df-convert {\n",
              "      background-color: #E8F0FE;\n",
              "      border: none;\n",
              "      border-radius: 50%;\n",
              "      cursor: pointer;\n",
              "      display: none;\n",
              "      fill: #1967D2;\n",
              "      height: 32px;\n",
              "      padding: 0 0 0 0;\n",
              "      width: 32px;\n",
              "    }\n",
              "\n",
              "    .colab-df-convert:hover {\n",
              "      background-color: #E2EBFA;\n",
              "      box-shadow: 0px 1px 2px rgba(60, 64, 67, 0.3), 0px 1px 3px 1px rgba(60, 64, 67, 0.15);\n",
              "      fill: #174EA6;\n",
              "    }\n",
              "\n",
              "    [theme=dark] .colab-df-convert {\n",
              "      background-color: #3B4455;\n",
              "      fill: #D2E3FC;\n",
              "    }\n",
              "\n",
              "    [theme=dark] .colab-df-convert:hover {\n",
              "      background-color: #434B5C;\n",
              "      box-shadow: 0px 1px 3px 1px rgba(0, 0, 0, 0.15);\n",
              "      filter: drop-shadow(0px 1px 2px rgba(0, 0, 0, 0.3));\n",
              "      fill: #FFFFFF;\n",
              "    }\n",
              "  </style>\n",
              "\n",
              "      <script>\n",
              "        const buttonEl =\n",
              "          document.querySelector('#df-62466ebb-c251-45b5-9823-fa6a32262e33 button.colab-df-convert');\n",
              "        buttonEl.style.display =\n",
              "          google.colab.kernel.accessAllowed ? 'block' : 'none';\n",
              "\n",
              "        async function convertToInteractive(key) {\n",
              "          const element = document.querySelector('#df-62466ebb-c251-45b5-9823-fa6a32262e33');\n",
              "          const dataTable =\n",
              "            await google.colab.kernel.invokeFunction('convertToInteractive',\n",
              "                                                     [key], {});\n",
              "          if (!dataTable) return;\n",
              "\n",
              "          const docLinkHtml = 'Like what you see? Visit the ' +\n",
              "            '<a target=\"_blank\" href=https://colab.research.google.com/notebooks/data_table.ipynb>data table notebook</a>'\n",
              "            + ' to learn more about interactive tables.';\n",
              "          element.innerHTML = '';\n",
              "          dataTable['output_type'] = 'display_data';\n",
              "          await google.colab.output.renderOutput(dataTable, element);\n",
              "          const docLink = document.createElement('div');\n",
              "          docLink.innerHTML = docLinkHtml;\n",
              "          element.appendChild(docLink);\n",
              "        }\n",
              "      </script>\n",
              "    </div>\n",
              "  </div>\n",
              "  "
            ]
          },
          "metadata": {},
          "execution_count": 19
        }
      ]
    },
    {
      "cell_type": "code",
      "source": [
        "print(df[\"AnswerCount\"].mode(),df[\"CommentCount\"].mode(),df[\"FavoriteCount\"].mode(),df[\"ViewCount\"].mode())"
      ],
      "metadata": {
        "colab": {
          "base_uri": "https://localhost:8080/"
        },
        "id": "Spmxfzo257Kg",
        "outputId": "1801d14f-a96f-4afb-9f2f-84c3dba4d087"
      },
      "execution_count": 20,
      "outputs": [
        {
          "output_type": "stream",
          "name": "stdout",
          "text": [
            "0    1.0\n",
            "dtype: float64 0    0\n",
            "dtype: int64 0    1.0\n",
            "dtype: float64 0    50.0\n",
            "dtype: float64\n"
          ]
        }
      ]
    },
    {
      "cell_type": "code",
      "source": [
        "df[\"AnswerCount\"]=df[\"AnswerCount\"].fillna(1)\n",
        "df[\"FavoriteCount\"]=df[\"FavoriteCount\"].fillna(1)\n",
        "df[\"ViewCount\"]=df[\"ViewCount\"].fillna(50)\n",
        "df[\"Title\"]=df[\"Title\"].fillna('none')"
      ],
      "metadata": {
        "id": "p7afIFig513G"
      },
      "execution_count": 21,
      "outputs": []
    },
    {
      "cell_type": "code",
      "source": [
        "df.isnull().sum()"
      ],
      "metadata": {
        "colab": {
          "base_uri": "https://localhost:8080/"
        },
        "id": "-8-D7QvW6L_H",
        "outputId": "d4f87388-ce0b-48c5-ffa9-29c3e25fcffc"
      },
      "execution_count": 22,
      "outputs": [
        {
          "output_type": "execute_result",
          "data": {
            "text/plain": [
              "AnswerCount      0\n",
              "Body             0\n",
              "CommentCount     0\n",
              "FavoriteCount    0\n",
              "Score            0\n",
              "Title            0\n",
              "ViewCount        0\n",
              "dtype: int64"
            ]
          },
          "metadata": {},
          "execution_count": 22
        }
      ]
    },
    {
      "cell_type": "code",
      "source": [
        "df[df[\"AnswerCount\"]>0]"
      ],
      "metadata": {
        "colab": {
          "base_uri": "https://localhost:8080/",
          "height": 423
        },
        "id": "PfXc1iT773KW",
        "outputId": "898492b8-761c-4c10-e445-fb7c5e2ce131"
      },
      "execution_count": 23,
      "outputs": [
        {
          "output_type": "execute_result",
          "data": {
            "text/plain": [
              "        AnswerCount                                               Body  \\\n",
              "0               5.0  <p>I often hear about subatomic particles havi...   \n",
              "1               4.0  <p>How would you explain string theory to non ...   \n",
              "2               3.0  <p>This is a question that has been posted at ...   \n",
              "3               1.0  <p>Imagine going to the rest frame of a massiv...   \n",
              "4               1.0  <p>Spin is a technical term specifically refer...   \n",
              "...             ...                                                ...   \n",
              "345187          1.0  <p>In Peskin, it only says that:</p>\\n\\n<block...   \n",
              "345190          1.0  <p>Between the Schrödinger and Heisenberg pict...   \n",
              "345193          1.0  <p>The simple dependence of the action allows ...   \n",
              "345195          1.0  <p>First of all, @Bill Watts is correct on eve...   \n",
              "345197          1.0  <p>First let me clear up some possible confusi...   \n",
              "\n",
              "        CommentCount  FavoriteCount  Score  \\\n",
              "0                  5           27.0     76   \n",
              "1                  4            8.0     29   \n",
              "2                  5           13.0     35   \n",
              "3                  3            1.0     22   \n",
              "4                  0            1.0     48   \n",
              "...              ...            ...    ...   \n",
              "345187             0            1.0      0   \n",
              "345190             0            1.0      0   \n",
              "345193             0            1.0      0   \n",
              "345195             0            1.0      0   \n",
              "345197             0            1.0      0   \n",
              "\n",
              "                                                    Title  ViewCount  \n",
              "0       What is spin as it relates to subatomic partic...    13803.0  \n",
              "1       What is your simplest explanation of the strin...     2641.0  \n",
              "2        Lie theory, Representations and particle physics     2412.0  \n",
              "3                                                    none       50.0  \n",
              "4                                                    none       50.0  \n",
              "...                                                   ...        ...  \n",
              "345187                                               none       50.0  \n",
              "345190                                               none       50.0  \n",
              "345193                                               none       50.0  \n",
              "345195                                               none       50.0  \n",
              "345197                                               none       50.0  \n",
              "\n",
              "[321279 rows x 7 columns]"
            ],
            "text/html": [
              "\n",
              "  <div id=\"df-3d294c63-cc67-4edc-9b12-17e0dd21ec6f\">\n",
              "    <div class=\"colab-df-container\">\n",
              "      <div>\n",
              "<style scoped>\n",
              "    .dataframe tbody tr th:only-of-type {\n",
              "        vertical-align: middle;\n",
              "    }\n",
              "\n",
              "    .dataframe tbody tr th {\n",
              "        vertical-align: top;\n",
              "    }\n",
              "\n",
              "    .dataframe thead th {\n",
              "        text-align: right;\n",
              "    }\n",
              "</style>\n",
              "<table border=\"1\" class=\"dataframe\">\n",
              "  <thead>\n",
              "    <tr style=\"text-align: right;\">\n",
              "      <th></th>\n",
              "      <th>AnswerCount</th>\n",
              "      <th>Body</th>\n",
              "      <th>CommentCount</th>\n",
              "      <th>FavoriteCount</th>\n",
              "      <th>Score</th>\n",
              "      <th>Title</th>\n",
              "      <th>ViewCount</th>\n",
              "    </tr>\n",
              "  </thead>\n",
              "  <tbody>\n",
              "    <tr>\n",
              "      <th>0</th>\n",
              "      <td>5.0</td>\n",
              "      <td>&lt;p&gt;I often hear about subatomic particles havi...</td>\n",
              "      <td>5</td>\n",
              "      <td>27.0</td>\n",
              "      <td>76</td>\n",
              "      <td>What is spin as it relates to subatomic partic...</td>\n",
              "      <td>13803.0</td>\n",
              "    </tr>\n",
              "    <tr>\n",
              "      <th>1</th>\n",
              "      <td>4.0</td>\n",
              "      <td>&lt;p&gt;How would you explain string theory to non ...</td>\n",
              "      <td>4</td>\n",
              "      <td>8.0</td>\n",
              "      <td>29</td>\n",
              "      <td>What is your simplest explanation of the strin...</td>\n",
              "      <td>2641.0</td>\n",
              "    </tr>\n",
              "    <tr>\n",
              "      <th>2</th>\n",
              "      <td>3.0</td>\n",
              "      <td>&lt;p&gt;This is a question that has been posted at ...</td>\n",
              "      <td>5</td>\n",
              "      <td>13.0</td>\n",
              "      <td>35</td>\n",
              "      <td>Lie theory, Representations and particle physics</td>\n",
              "      <td>2412.0</td>\n",
              "    </tr>\n",
              "    <tr>\n",
              "      <th>3</th>\n",
              "      <td>1.0</td>\n",
              "      <td>&lt;p&gt;Imagine going to the rest frame of a massiv...</td>\n",
              "      <td>3</td>\n",
              "      <td>1.0</td>\n",
              "      <td>22</td>\n",
              "      <td>none</td>\n",
              "      <td>50.0</td>\n",
              "    </tr>\n",
              "    <tr>\n",
              "      <th>4</th>\n",
              "      <td>1.0</td>\n",
              "      <td>&lt;p&gt;Spin is a technical term specifically refer...</td>\n",
              "      <td>0</td>\n",
              "      <td>1.0</td>\n",
              "      <td>48</td>\n",
              "      <td>none</td>\n",
              "      <td>50.0</td>\n",
              "    </tr>\n",
              "    <tr>\n",
              "      <th>...</th>\n",
              "      <td>...</td>\n",
              "      <td>...</td>\n",
              "      <td>...</td>\n",
              "      <td>...</td>\n",
              "      <td>...</td>\n",
              "      <td>...</td>\n",
              "      <td>...</td>\n",
              "    </tr>\n",
              "    <tr>\n",
              "      <th>345187</th>\n",
              "      <td>1.0</td>\n",
              "      <td>&lt;p&gt;In Peskin, it only says that:&lt;/p&gt;\\n\\n&lt;block...</td>\n",
              "      <td>0</td>\n",
              "      <td>1.0</td>\n",
              "      <td>0</td>\n",
              "      <td>none</td>\n",
              "      <td>50.0</td>\n",
              "    </tr>\n",
              "    <tr>\n",
              "      <th>345190</th>\n",
              "      <td>1.0</td>\n",
              "      <td>&lt;p&gt;Between the Schrödinger and Heisenberg pict...</td>\n",
              "      <td>0</td>\n",
              "      <td>1.0</td>\n",
              "      <td>0</td>\n",
              "      <td>none</td>\n",
              "      <td>50.0</td>\n",
              "    </tr>\n",
              "    <tr>\n",
              "      <th>345193</th>\n",
              "      <td>1.0</td>\n",
              "      <td>&lt;p&gt;The simple dependence of the action allows ...</td>\n",
              "      <td>0</td>\n",
              "      <td>1.0</td>\n",
              "      <td>0</td>\n",
              "      <td>none</td>\n",
              "      <td>50.0</td>\n",
              "    </tr>\n",
              "    <tr>\n",
              "      <th>345195</th>\n",
              "      <td>1.0</td>\n",
              "      <td>&lt;p&gt;First of all, @Bill Watts is correct on eve...</td>\n",
              "      <td>0</td>\n",
              "      <td>1.0</td>\n",
              "      <td>0</td>\n",
              "      <td>none</td>\n",
              "      <td>50.0</td>\n",
              "    </tr>\n",
              "    <tr>\n",
              "      <th>345197</th>\n",
              "      <td>1.0</td>\n",
              "      <td>&lt;p&gt;First let me clear up some possible confusi...</td>\n",
              "      <td>0</td>\n",
              "      <td>1.0</td>\n",
              "      <td>0</td>\n",
              "      <td>none</td>\n",
              "      <td>50.0</td>\n",
              "    </tr>\n",
              "  </tbody>\n",
              "</table>\n",
              "<p>321279 rows × 7 columns</p>\n",
              "</div>\n",
              "      <button class=\"colab-df-convert\" onclick=\"convertToInteractive('df-3d294c63-cc67-4edc-9b12-17e0dd21ec6f')\"\n",
              "              title=\"Convert this dataframe to an interactive table.\"\n",
              "              style=\"display:none;\">\n",
              "        \n",
              "  <svg xmlns=\"http://www.w3.org/2000/svg\" height=\"24px\"viewBox=\"0 0 24 24\"\n",
              "       width=\"24px\">\n",
              "    <path d=\"M0 0h24v24H0V0z\" fill=\"none\"/>\n",
              "    <path d=\"M18.56 5.44l.94 2.06.94-2.06 2.06-.94-2.06-.94-.94-2.06-.94 2.06-2.06.94zm-11 1L8.5 8.5l.94-2.06 2.06-.94-2.06-.94L8.5 2.5l-.94 2.06-2.06.94zm10 10l.94 2.06.94-2.06 2.06-.94-2.06-.94-.94-2.06-.94 2.06-2.06.94z\"/><path d=\"M17.41 7.96l-1.37-1.37c-.4-.4-.92-.59-1.43-.59-.52 0-1.04.2-1.43.59L10.3 9.45l-7.72 7.72c-.78.78-.78 2.05 0 2.83L4 21.41c.39.39.9.59 1.41.59.51 0 1.02-.2 1.41-.59l7.78-7.78 2.81-2.81c.8-.78.8-2.07 0-2.86zM5.41 20L4 18.59l7.72-7.72 1.47 1.35L5.41 20z\"/>\n",
              "  </svg>\n",
              "      </button>\n",
              "      \n",
              "  <style>\n",
              "    .colab-df-container {\n",
              "      display:flex;\n",
              "      flex-wrap:wrap;\n",
              "      gap: 12px;\n",
              "    }\n",
              "\n",
              "    .colab-df-convert {\n",
              "      background-color: #E8F0FE;\n",
              "      border: none;\n",
              "      border-radius: 50%;\n",
              "      cursor: pointer;\n",
              "      display: none;\n",
              "      fill: #1967D2;\n",
              "      height: 32px;\n",
              "      padding: 0 0 0 0;\n",
              "      width: 32px;\n",
              "    }\n",
              "\n",
              "    .colab-df-convert:hover {\n",
              "      background-color: #E2EBFA;\n",
              "      box-shadow: 0px 1px 2px rgba(60, 64, 67, 0.3), 0px 1px 3px 1px rgba(60, 64, 67, 0.15);\n",
              "      fill: #174EA6;\n",
              "    }\n",
              "\n",
              "    [theme=dark] .colab-df-convert {\n",
              "      background-color: #3B4455;\n",
              "      fill: #D2E3FC;\n",
              "    }\n",
              "\n",
              "    [theme=dark] .colab-df-convert:hover {\n",
              "      background-color: #434B5C;\n",
              "      box-shadow: 0px 1px 3px 1px rgba(0, 0, 0, 0.15);\n",
              "      filter: drop-shadow(0px 1px 2px rgba(0, 0, 0, 0.3));\n",
              "      fill: #FFFFFF;\n",
              "    }\n",
              "  </style>\n",
              "\n",
              "      <script>\n",
              "        const buttonEl =\n",
              "          document.querySelector('#df-3d294c63-cc67-4edc-9b12-17e0dd21ec6f button.colab-df-convert');\n",
              "        buttonEl.style.display =\n",
              "          google.colab.kernel.accessAllowed ? 'block' : 'none';\n",
              "\n",
              "        async function convertToInteractive(key) {\n",
              "          const element = document.querySelector('#df-3d294c63-cc67-4edc-9b12-17e0dd21ec6f');\n",
              "          const dataTable =\n",
              "            await google.colab.kernel.invokeFunction('convertToInteractive',\n",
              "                                                     [key], {});\n",
              "          if (!dataTable) return;\n",
              "\n",
              "          const docLinkHtml = 'Like what you see? Visit the ' +\n",
              "            '<a target=\"_blank\" href=https://colab.research.google.com/notebooks/data_table.ipynb>data table notebook</a>'\n",
              "            + ' to learn more about interactive tables.';\n",
              "          element.innerHTML = '';\n",
              "          dataTable['output_type'] = 'display_data';\n",
              "          await google.colab.output.renderOutput(dataTable, element);\n",
              "          const docLink = document.createElement('div');\n",
              "          docLink.innerHTML = docLinkHtml;\n",
              "          element.appendChild(docLink);\n",
              "        }\n",
              "      </script>\n",
              "    </div>\n",
              "  </div>\n",
              "  "
            ]
          },
          "metadata": {},
          "execution_count": 23
        }
      ]
    },
    {
      "cell_type": "markdown",
      "source": [
        "**Creating Label for the dataset based on the given conditions**"
      ],
      "metadata": {
        "id": "uTmt40N97omf"
      }
    },
    {
      "cell_type": "code",
      "source": [
        "df[(df[\"Score\"]>5) & (df[\"AnswerCount\"]>=0)].shape"
      ],
      "metadata": {
        "colab": {
          "base_uri": "https://localhost:8080/"
        },
        "id": "pVfk_rrG6xev",
        "outputId": "28ae3f60-fe94-4731-cbc5-f77bb71447ab"
      },
      "execution_count": 24,
      "outputs": [
        {
          "output_type": "execute_result",
          "data": {
            "text/plain": [
              "(38382, 7)"
            ]
          },
          "metadata": {},
          "execution_count": 24
        }
      ]
    },
    {
      "cell_type": "code",
      "source": [
        "df[(df[\"Score\"]>=0) &(df[\"Score\"]<=5) & (df[\"AnswerCount\"]>=0)].shape"
      ],
      "metadata": {
        "colab": {
          "base_uri": "https://localhost:8080/"
        },
        "id": "1J8vM6lK654t",
        "outputId": "8123c5f0-951e-41bd-98f0-074838eb72c6"
      },
      "execution_count": 25,
      "outputs": [
        {
          "output_type": "execute_result",
          "data": {
            "text/plain": [
              "(289348, 7)"
            ]
          },
          "metadata": {},
          "execution_count": 25
        }
      ]
    },
    {
      "cell_type": "code",
      "source": [
        "df[(df[\"Score\"]<0)].shape"
      ],
      "metadata": {
        "colab": {
          "base_uri": "https://localhost:8080/"
        },
        "id": "-o5SnLwS7FZE",
        "outputId": "c0e9adc1-e248-476a-a5ea-c17441ee1495"
      },
      "execution_count": 26,
      "outputs": [
        {
          "output_type": "execute_result",
          "data": {
            "text/plain": [
              "(16121, 7)"
            ]
          },
          "metadata": {},
          "execution_count": 26
        }
      ]
    },
    {
      "cell_type": "code",
      "source": [
        "import warnings\n",
        "warnings.filterwarnings(\"ignore\")"
      ],
      "metadata": {
        "id": "PCxr0AJo9v8P"
      },
      "execution_count": 27,
      "outputs": []
    },
    {
      "cell_type": "code",
      "source": [
        "df1=df[(df[\"Score\"]>5) & (df[\"AnswerCount\"]>=0)]\n",
        "df1[\"Quality\"]=0\n",
        "df2=df[(df[\"Score\"]>=0) &(df[\"Score\"]<=5) & (df[\"AnswerCount\"]>=0)]\n",
        "df2[\"Quality\"]=1\n",
        "df3=df[(df[\"Score\"]<0)]\n",
        "df3[\"Quality\"]=2"
      ],
      "metadata": {
        "id": "uYdpYMVp6vGz"
      },
      "execution_count": 28,
      "outputs": []
    },
    {
      "cell_type": "code",
      "source": [
        "df=pd.concat([df1,df2,df3],axis=0)\n",
        "df.to_csv(\"LabeledPosts.csv\",index=False)"
      ],
      "metadata": {
        "id": "uDa6ZcqE9ahP"
      },
      "execution_count": 29,
      "outputs": []
    },
    {
      "cell_type": "code",
      "source": [
        "df=pd.read_csv(\"LabeledPosts.csv\")\n",
        "df.head()"
      ],
      "metadata": {
        "colab": {
          "base_uri": "https://localhost:8080/",
          "height": 206
        },
        "id": "1ZEGkSpD-WF9",
        "outputId": "d63ec406-ca4f-444a-f55f-93d29d58523a"
      },
      "execution_count": 30,
      "outputs": [
        {
          "output_type": "execute_result",
          "data": {
            "text/plain": [
              "   AnswerCount                                               Body  \\\n",
              "0          5.0  <p>I often hear about subatomic particles havi...   \n",
              "1          4.0  <p>How would you explain string theory to non ...   \n",
              "2          3.0  <p>This is a question that has been posted at ...   \n",
              "3          1.0  <p>Imagine going to the rest frame of a massiv...   \n",
              "4          1.0  <p>Spin is a technical term specifically refer...   \n",
              "\n",
              "   CommentCount  FavoriteCount  Score  \\\n",
              "0             5           27.0     76   \n",
              "1             4            8.0     29   \n",
              "2             5           13.0     35   \n",
              "3             3            1.0     22   \n",
              "4             0            1.0     48   \n",
              "\n",
              "                                               Title  ViewCount  Quality  \n",
              "0  What is spin as it relates to subatomic partic...    13803.0        0  \n",
              "1  What is your simplest explanation of the strin...     2641.0        0  \n",
              "2   Lie theory, Representations and particle physics     2412.0        0  \n",
              "3                                               none       50.0        0  \n",
              "4                                               none       50.0        0  "
            ],
            "text/html": [
              "\n",
              "  <div id=\"df-6e9445ed-8ca5-41d6-af35-c8484c132633\">\n",
              "    <div class=\"colab-df-container\">\n",
              "      <div>\n",
              "<style scoped>\n",
              "    .dataframe tbody tr th:only-of-type {\n",
              "        vertical-align: middle;\n",
              "    }\n",
              "\n",
              "    .dataframe tbody tr th {\n",
              "        vertical-align: top;\n",
              "    }\n",
              "\n",
              "    .dataframe thead th {\n",
              "        text-align: right;\n",
              "    }\n",
              "</style>\n",
              "<table border=\"1\" class=\"dataframe\">\n",
              "  <thead>\n",
              "    <tr style=\"text-align: right;\">\n",
              "      <th></th>\n",
              "      <th>AnswerCount</th>\n",
              "      <th>Body</th>\n",
              "      <th>CommentCount</th>\n",
              "      <th>FavoriteCount</th>\n",
              "      <th>Score</th>\n",
              "      <th>Title</th>\n",
              "      <th>ViewCount</th>\n",
              "      <th>Quality</th>\n",
              "    </tr>\n",
              "  </thead>\n",
              "  <tbody>\n",
              "    <tr>\n",
              "      <th>0</th>\n",
              "      <td>5.0</td>\n",
              "      <td>&lt;p&gt;I often hear about subatomic particles havi...</td>\n",
              "      <td>5</td>\n",
              "      <td>27.0</td>\n",
              "      <td>76</td>\n",
              "      <td>What is spin as it relates to subatomic partic...</td>\n",
              "      <td>13803.0</td>\n",
              "      <td>0</td>\n",
              "    </tr>\n",
              "    <tr>\n",
              "      <th>1</th>\n",
              "      <td>4.0</td>\n",
              "      <td>&lt;p&gt;How would you explain string theory to non ...</td>\n",
              "      <td>4</td>\n",
              "      <td>8.0</td>\n",
              "      <td>29</td>\n",
              "      <td>What is your simplest explanation of the strin...</td>\n",
              "      <td>2641.0</td>\n",
              "      <td>0</td>\n",
              "    </tr>\n",
              "    <tr>\n",
              "      <th>2</th>\n",
              "      <td>3.0</td>\n",
              "      <td>&lt;p&gt;This is a question that has been posted at ...</td>\n",
              "      <td>5</td>\n",
              "      <td>13.0</td>\n",
              "      <td>35</td>\n",
              "      <td>Lie theory, Representations and particle physics</td>\n",
              "      <td>2412.0</td>\n",
              "      <td>0</td>\n",
              "    </tr>\n",
              "    <tr>\n",
              "      <th>3</th>\n",
              "      <td>1.0</td>\n",
              "      <td>&lt;p&gt;Imagine going to the rest frame of a massiv...</td>\n",
              "      <td>3</td>\n",
              "      <td>1.0</td>\n",
              "      <td>22</td>\n",
              "      <td>none</td>\n",
              "      <td>50.0</td>\n",
              "      <td>0</td>\n",
              "    </tr>\n",
              "    <tr>\n",
              "      <th>4</th>\n",
              "      <td>1.0</td>\n",
              "      <td>&lt;p&gt;Spin is a technical term specifically refer...</td>\n",
              "      <td>0</td>\n",
              "      <td>1.0</td>\n",
              "      <td>48</td>\n",
              "      <td>none</td>\n",
              "      <td>50.0</td>\n",
              "      <td>0</td>\n",
              "    </tr>\n",
              "  </tbody>\n",
              "</table>\n",
              "</div>\n",
              "      <button class=\"colab-df-convert\" onclick=\"convertToInteractive('df-6e9445ed-8ca5-41d6-af35-c8484c132633')\"\n",
              "              title=\"Convert this dataframe to an interactive table.\"\n",
              "              style=\"display:none;\">\n",
              "        \n",
              "  <svg xmlns=\"http://www.w3.org/2000/svg\" height=\"24px\"viewBox=\"0 0 24 24\"\n",
              "       width=\"24px\">\n",
              "    <path d=\"M0 0h24v24H0V0z\" fill=\"none\"/>\n",
              "    <path d=\"M18.56 5.44l.94 2.06.94-2.06 2.06-.94-2.06-.94-.94-2.06-.94 2.06-2.06.94zm-11 1L8.5 8.5l.94-2.06 2.06-.94-2.06-.94L8.5 2.5l-.94 2.06-2.06.94zm10 10l.94 2.06.94-2.06 2.06-.94-2.06-.94-.94-2.06-.94 2.06-2.06.94z\"/><path d=\"M17.41 7.96l-1.37-1.37c-.4-.4-.92-.59-1.43-.59-.52 0-1.04.2-1.43.59L10.3 9.45l-7.72 7.72c-.78.78-.78 2.05 0 2.83L4 21.41c.39.39.9.59 1.41.59.51 0 1.02-.2 1.41-.59l7.78-7.78 2.81-2.81c.8-.78.8-2.07 0-2.86zM5.41 20L4 18.59l7.72-7.72 1.47 1.35L5.41 20z\"/>\n",
              "  </svg>\n",
              "      </button>\n",
              "      \n",
              "  <style>\n",
              "    .colab-df-container {\n",
              "      display:flex;\n",
              "      flex-wrap:wrap;\n",
              "      gap: 12px;\n",
              "    }\n",
              "\n",
              "    .colab-df-convert {\n",
              "      background-color: #E8F0FE;\n",
              "      border: none;\n",
              "      border-radius: 50%;\n",
              "      cursor: pointer;\n",
              "      display: none;\n",
              "      fill: #1967D2;\n",
              "      height: 32px;\n",
              "      padding: 0 0 0 0;\n",
              "      width: 32px;\n",
              "    }\n",
              "\n",
              "    .colab-df-convert:hover {\n",
              "      background-color: #E2EBFA;\n",
              "      box-shadow: 0px 1px 2px rgba(60, 64, 67, 0.3), 0px 1px 3px 1px rgba(60, 64, 67, 0.15);\n",
              "      fill: #174EA6;\n",
              "    }\n",
              "\n",
              "    [theme=dark] .colab-df-convert {\n",
              "      background-color: #3B4455;\n",
              "      fill: #D2E3FC;\n",
              "    }\n",
              "\n",
              "    [theme=dark] .colab-df-convert:hover {\n",
              "      background-color: #434B5C;\n",
              "      box-shadow: 0px 1px 3px 1px rgba(0, 0, 0, 0.15);\n",
              "      filter: drop-shadow(0px 1px 2px rgba(0, 0, 0, 0.3));\n",
              "      fill: #FFFFFF;\n",
              "    }\n",
              "  </style>\n",
              "\n",
              "      <script>\n",
              "        const buttonEl =\n",
              "          document.querySelector('#df-6e9445ed-8ca5-41d6-af35-c8484c132633 button.colab-df-convert');\n",
              "        buttonEl.style.display =\n",
              "          google.colab.kernel.accessAllowed ? 'block' : 'none';\n",
              "\n",
              "        async function convertToInteractive(key) {\n",
              "          const element = document.querySelector('#df-6e9445ed-8ca5-41d6-af35-c8484c132633');\n",
              "          const dataTable =\n",
              "            await google.colab.kernel.invokeFunction('convertToInteractive',\n",
              "                                                     [key], {});\n",
              "          if (!dataTable) return;\n",
              "\n",
              "          const docLinkHtml = 'Like what you see? Visit the ' +\n",
              "            '<a target=\"_blank\" href=https://colab.research.google.com/notebooks/data_table.ipynb>data table notebook</a>'\n",
              "            + ' to learn more about interactive tables.';\n",
              "          element.innerHTML = '';\n",
              "          dataTable['output_type'] = 'display_data';\n",
              "          await google.colab.output.renderOutput(dataTable, element);\n",
              "          const docLink = document.createElement('div');\n",
              "          docLink.innerHTML = docLinkHtml;\n",
              "          element.appendChild(docLink);\n",
              "        }\n",
              "      </script>\n",
              "    </div>\n",
              "  </div>\n",
              "  "
            ]
          },
          "metadata": {},
          "execution_count": 30
        }
      ]
    },
    {
      "cell_type": "code",
      "source": [
        "df=df[~(df[\"Title\"]==\"none\")]"
      ],
      "metadata": {
        "id": "hDrNihVvDv7C"
      },
      "execution_count": 33,
      "outputs": []
    },
    {
      "cell_type": "code",
      "source": [
        "df.isnull().sum()"
      ],
      "metadata": {
        "colab": {
          "base_uri": "https://localhost:8080/"
        },
        "id": "Z2mp2plO-oWp",
        "outputId": "02ad1c14-2204-40f9-9ca9-28b1e53783fb"
      },
      "execution_count": 34,
      "outputs": [
        {
          "output_type": "execute_result",
          "data": {
            "text/plain": [
              "AnswerCount      0\n",
              "Body             0\n",
              "CommentCount     0\n",
              "FavoriteCount    0\n",
              "Score            0\n",
              "Title            0\n",
              "ViewCount        0\n",
              "Quality          0\n",
              "dtype: int64"
            ]
          },
          "metadata": {},
          "execution_count": 34
        }
      ]
    },
    {
      "cell_type": "code",
      "source": [
        "df[\"Quality\"].value_counts()"
      ],
      "metadata": {
        "colab": {
          "base_uri": "https://localhost:8080/"
        },
        "id": "VmTVfWm2D-E9",
        "outputId": "d19e758c-b4c7-47b2-fc17-aff12eed25ee"
      },
      "execution_count": 36,
      "outputs": [
        {
          "output_type": "execute_result",
          "data": {
            "text/plain": [
              "1    114971\n",
              "0     15785\n",
              "2      7954\n",
              "Name: Quality, dtype: int64"
            ]
          },
          "metadata": {},
          "execution_count": 36
        }
      ]
    },
    {
      "cell_type": "markdown",
      "source": [
        "**Text classification**\n"
      ],
      "metadata": {
        "id": "mng0W5nG_T9I"
      }
    },
    {
      "cell_type": "code",
      "source": [
        "import re\n",
        "def preprocess(text):\n",
        "  lis=re.findall(r\"\\w+\",text.lower())\n",
        "  lis=[i for i in lis if i!=\"p\"]\n",
        "  return \" \".join(lis)"
      ],
      "metadata": {
        "id": "BZVc5h1c-7dy"
      },
      "execution_count": 37,
      "outputs": []
    },
    {
      "cell_type": "code",
      "source": [
        "df[\"Body\"]=df[\"Body\"].map(preprocess)"
      ],
      "metadata": {
        "id": "codos9ch_LpD"
      },
      "execution_count": 38,
      "outputs": []
    },
    {
      "cell_type": "code",
      "source": [
        "df[\"Title\"]=df[\"Title\"].map(preprocess)"
      ],
      "metadata": {
        "id": "gLOnaivJ_NUj"
      },
      "execution_count": 39,
      "outputs": []
    },
    {
      "cell_type": "code",
      "source": [
        "import spacy\n",
        "nlp=spacy.load(\"en_core_web_sm\",disable=[\"parser\", \"ner\"])"
      ],
      "metadata": {
        "id": "7n_3U5Vp_Zkb"
      },
      "execution_count": 40,
      "outputs": []
    },
    {
      "cell_type": "code",
      "source": [
        "def preprocesss(text):\n",
        "  doc=nlp(text)\n",
        "  lis=[]\n",
        "  for token in doc:\n",
        "    if token.is_stop or token.like_email or token.like_url or token.is_digit:\n",
        "      continue\n",
        "    else:\n",
        "      lis.append(token.lemma_)\n",
        "  return \" \".join(lis)"
      ],
      "metadata": {
        "id": "DgX0moC2_fD6"
      },
      "execution_count": 41,
      "outputs": []
    },
    {
      "cell_type": "code",
      "source": [
        "df[\"Body\"]=df[\"Body\"].map(preprocesss)"
      ],
      "metadata": {
        "id": "N7m2f_nq_hAY"
      },
      "execution_count": 42,
      "outputs": []
    },
    {
      "cell_type": "code",
      "source": [
        "df[\"Title\"]=df[\"Title\"].map(preprocesss)"
      ],
      "metadata": {
        "id": "gLD20F5D_jFb"
      },
      "execution_count": 43,
      "outputs": []
    },
    {
      "cell_type": "code",
      "source": [
        "df.to_csv(\"newposts.csv\",index=False)"
      ],
      "metadata": {
        "id": "Lsm7Xgu4yp2I"
      },
      "execution_count": 44,
      "outputs": []
    },
    {
      "cell_type": "code",
      "source": [
        "df=pd.read_csv(\"newposts.csv\")\n",
        "df"
      ],
      "metadata": {
        "colab": {
          "base_uri": "https://localhost:8080/",
          "height": 423
        },
        "id": "k-CXPtnC0zlT",
        "outputId": "6aec4c0f-75b7-43c5-9de2-73cc7dc68dad"
      },
      "execution_count": 194,
      "outputs": [
        {
          "output_type": "execute_result",
          "data": {
            "text/plain": [
              "        AnswerCount                                               Body  \\\n",
              "0               5.0  hear subatomic particle have property call spi...   \n",
              "1               4.0  explain string theory non physicist m speciall...   \n",
              "2               3.0  question post different forum think maybe well...   \n",
              "3               6.0  main problem need solve prove laplace s determ...   \n",
              "4               6.0  hamilton s principle state dynamic system foll...   \n",
              "...             ...                                                ...   \n",
              "138705          0.0  consider conductor connect battery conduct wir...   \n",
              "138706          2.0  understand change length see different frame r...   \n",
              "138707          0.0  think quote awareness knowledge illusion free ...   \n",
              "138708          0.0  m physics m wonder vacuum base capillary bowl ...   \n",
              "138709          0.0  james binney s book em physics quantum mechani...   \n",
              "\n",
              "        CommentCount  FavoriteCount  Score  \\\n",
              "0                  5           27.0     76   \n",
              "1                  4            8.0     29   \n",
              "2                  5           13.0     35   \n",
              "3                  5            5.0     10   \n",
              "4                  2           32.0     48   \n",
              "...              ...            ...    ...   \n",
              "138705             5            1.0     -1   \n",
              "138706             8            1.0     -1   \n",
              "138707             3            1.0     -2   \n",
              "138708             1            1.0     -2   \n",
              "138709             2            1.0     -1   \n",
              "\n",
              "                                                    Title  ViewCount  Quality  \n",
              "0                          spin relate subatomic particle    13803.0        0  \n",
              "1                        simple explanation string theory     2641.0        0  \n",
              "2               lie theory representation particle physic     2412.0        0  \n",
              "3                                    determinism possible     2033.0        0  \n",
              "4                                    hamilton s principle     9277.0        0  \n",
              "...                                                   ...        ...      ...  \n",
              "138705  electric current continue flow circuit despite...       25.0        2  \n",
              "138706                     velocity relativistic momentum       46.0        2  \n",
              "138707                                  dominant physic s       47.0        2  \n",
              "138708                            vacuum perpetual motion       16.0        2  \n",
              "138709  composite system s state linear combination pr...       11.0        2  \n",
              "\n",
              "[138710 rows x 8 columns]"
            ],
            "text/html": [
              "\n",
              "  <div id=\"df-a0682eeb-e5e7-4e51-939b-3226aa27cb9b\">\n",
              "    <div class=\"colab-df-container\">\n",
              "      <div>\n",
              "<style scoped>\n",
              "    .dataframe tbody tr th:only-of-type {\n",
              "        vertical-align: middle;\n",
              "    }\n",
              "\n",
              "    .dataframe tbody tr th {\n",
              "        vertical-align: top;\n",
              "    }\n",
              "\n",
              "    .dataframe thead th {\n",
              "        text-align: right;\n",
              "    }\n",
              "</style>\n",
              "<table border=\"1\" class=\"dataframe\">\n",
              "  <thead>\n",
              "    <tr style=\"text-align: right;\">\n",
              "      <th></th>\n",
              "      <th>AnswerCount</th>\n",
              "      <th>Body</th>\n",
              "      <th>CommentCount</th>\n",
              "      <th>FavoriteCount</th>\n",
              "      <th>Score</th>\n",
              "      <th>Title</th>\n",
              "      <th>ViewCount</th>\n",
              "      <th>Quality</th>\n",
              "    </tr>\n",
              "  </thead>\n",
              "  <tbody>\n",
              "    <tr>\n",
              "      <th>0</th>\n",
              "      <td>5.0</td>\n",
              "      <td>hear subatomic particle have property call spi...</td>\n",
              "      <td>5</td>\n",
              "      <td>27.0</td>\n",
              "      <td>76</td>\n",
              "      <td>spin relate subatomic particle</td>\n",
              "      <td>13803.0</td>\n",
              "      <td>0</td>\n",
              "    </tr>\n",
              "    <tr>\n",
              "      <th>1</th>\n",
              "      <td>4.0</td>\n",
              "      <td>explain string theory non physicist m speciall...</td>\n",
              "      <td>4</td>\n",
              "      <td>8.0</td>\n",
              "      <td>29</td>\n",
              "      <td>simple explanation string theory</td>\n",
              "      <td>2641.0</td>\n",
              "      <td>0</td>\n",
              "    </tr>\n",
              "    <tr>\n",
              "      <th>2</th>\n",
              "      <td>3.0</td>\n",
              "      <td>question post different forum think maybe well...</td>\n",
              "      <td>5</td>\n",
              "      <td>13.0</td>\n",
              "      <td>35</td>\n",
              "      <td>lie theory representation particle physic</td>\n",
              "      <td>2412.0</td>\n",
              "      <td>0</td>\n",
              "    </tr>\n",
              "    <tr>\n",
              "      <th>3</th>\n",
              "      <td>6.0</td>\n",
              "      <td>main problem need solve prove laplace s determ...</td>\n",
              "      <td>5</td>\n",
              "      <td>5.0</td>\n",
              "      <td>10</td>\n",
              "      <td>determinism possible</td>\n",
              "      <td>2033.0</td>\n",
              "      <td>0</td>\n",
              "    </tr>\n",
              "    <tr>\n",
              "      <th>4</th>\n",
              "      <td>6.0</td>\n",
              "      <td>hamilton s principle state dynamic system foll...</td>\n",
              "      <td>2</td>\n",
              "      <td>32.0</td>\n",
              "      <td>48</td>\n",
              "      <td>hamilton s principle</td>\n",
              "      <td>9277.0</td>\n",
              "      <td>0</td>\n",
              "    </tr>\n",
              "    <tr>\n",
              "      <th>...</th>\n",
              "      <td>...</td>\n",
              "      <td>...</td>\n",
              "      <td>...</td>\n",
              "      <td>...</td>\n",
              "      <td>...</td>\n",
              "      <td>...</td>\n",
              "      <td>...</td>\n",
              "      <td>...</td>\n",
              "    </tr>\n",
              "    <tr>\n",
              "      <th>138705</th>\n",
              "      <td>0.0</td>\n",
              "      <td>consider conductor connect battery conduct wir...</td>\n",
              "      <td>5</td>\n",
              "      <td>1.0</td>\n",
              "      <td>-1</td>\n",
              "      <td>electric current continue flow circuit despite...</td>\n",
              "      <td>25.0</td>\n",
              "      <td>2</td>\n",
              "    </tr>\n",
              "    <tr>\n",
              "      <th>138706</th>\n",
              "      <td>2.0</td>\n",
              "      <td>understand change length see different frame r...</td>\n",
              "      <td>8</td>\n",
              "      <td>1.0</td>\n",
              "      <td>-1</td>\n",
              "      <td>velocity relativistic momentum</td>\n",
              "      <td>46.0</td>\n",
              "      <td>2</td>\n",
              "    </tr>\n",
              "    <tr>\n",
              "      <th>138707</th>\n",
              "      <td>0.0</td>\n",
              "      <td>think quote awareness knowledge illusion free ...</td>\n",
              "      <td>3</td>\n",
              "      <td>1.0</td>\n",
              "      <td>-2</td>\n",
              "      <td>dominant physic s</td>\n",
              "      <td>47.0</td>\n",
              "      <td>2</td>\n",
              "    </tr>\n",
              "    <tr>\n",
              "      <th>138708</th>\n",
              "      <td>0.0</td>\n",
              "      <td>m physics m wonder vacuum base capillary bowl ...</td>\n",
              "      <td>1</td>\n",
              "      <td>1.0</td>\n",
              "      <td>-2</td>\n",
              "      <td>vacuum perpetual motion</td>\n",
              "      <td>16.0</td>\n",
              "      <td>2</td>\n",
              "    </tr>\n",
              "    <tr>\n",
              "      <th>138709</th>\n",
              "      <td>0.0</td>\n",
              "      <td>james binney s book em physics quantum mechani...</td>\n",
              "      <td>2</td>\n",
              "      <td>1.0</td>\n",
              "      <td>-1</td>\n",
              "      <td>composite system s state linear combination pr...</td>\n",
              "      <td>11.0</td>\n",
              "      <td>2</td>\n",
              "    </tr>\n",
              "  </tbody>\n",
              "</table>\n",
              "<p>138710 rows × 8 columns</p>\n",
              "</div>\n",
              "      <button class=\"colab-df-convert\" onclick=\"convertToInteractive('df-a0682eeb-e5e7-4e51-939b-3226aa27cb9b')\"\n",
              "              title=\"Convert this dataframe to an interactive table.\"\n",
              "              style=\"display:none;\">\n",
              "        \n",
              "  <svg xmlns=\"http://www.w3.org/2000/svg\" height=\"24px\"viewBox=\"0 0 24 24\"\n",
              "       width=\"24px\">\n",
              "    <path d=\"M0 0h24v24H0V0z\" fill=\"none\"/>\n",
              "    <path d=\"M18.56 5.44l.94 2.06.94-2.06 2.06-.94-2.06-.94-.94-2.06-.94 2.06-2.06.94zm-11 1L8.5 8.5l.94-2.06 2.06-.94-2.06-.94L8.5 2.5l-.94 2.06-2.06.94zm10 10l.94 2.06.94-2.06 2.06-.94-2.06-.94-.94-2.06-.94 2.06-2.06.94z\"/><path d=\"M17.41 7.96l-1.37-1.37c-.4-.4-.92-.59-1.43-.59-.52 0-1.04.2-1.43.59L10.3 9.45l-7.72 7.72c-.78.78-.78 2.05 0 2.83L4 21.41c.39.39.9.59 1.41.59.51 0 1.02-.2 1.41-.59l7.78-7.78 2.81-2.81c.8-.78.8-2.07 0-2.86zM5.41 20L4 18.59l7.72-7.72 1.47 1.35L5.41 20z\"/>\n",
              "  </svg>\n",
              "      </button>\n",
              "      \n",
              "  <style>\n",
              "    .colab-df-container {\n",
              "      display:flex;\n",
              "      flex-wrap:wrap;\n",
              "      gap: 12px;\n",
              "    }\n",
              "\n",
              "    .colab-df-convert {\n",
              "      background-color: #E8F0FE;\n",
              "      border: none;\n",
              "      border-radius: 50%;\n",
              "      cursor: pointer;\n",
              "      display: none;\n",
              "      fill: #1967D2;\n",
              "      height: 32px;\n",
              "      padding: 0 0 0 0;\n",
              "      width: 32px;\n",
              "    }\n",
              "\n",
              "    .colab-df-convert:hover {\n",
              "      background-color: #E2EBFA;\n",
              "      box-shadow: 0px 1px 2px rgba(60, 64, 67, 0.3), 0px 1px 3px 1px rgba(60, 64, 67, 0.15);\n",
              "      fill: #174EA6;\n",
              "    }\n",
              "\n",
              "    [theme=dark] .colab-df-convert {\n",
              "      background-color: #3B4455;\n",
              "      fill: #D2E3FC;\n",
              "    }\n",
              "\n",
              "    [theme=dark] .colab-df-convert:hover {\n",
              "      background-color: #434B5C;\n",
              "      box-shadow: 0px 1px 3px 1px rgba(0, 0, 0, 0.15);\n",
              "      filter: drop-shadow(0px 1px 2px rgba(0, 0, 0, 0.3));\n",
              "      fill: #FFFFFF;\n",
              "    }\n",
              "  </style>\n",
              "\n",
              "      <script>\n",
              "        const buttonEl =\n",
              "          document.querySelector('#df-a0682eeb-e5e7-4e51-939b-3226aa27cb9b button.colab-df-convert');\n",
              "        buttonEl.style.display =\n",
              "          google.colab.kernel.accessAllowed ? 'block' : 'none';\n",
              "\n",
              "        async function convertToInteractive(key) {\n",
              "          const element = document.querySelector('#df-a0682eeb-e5e7-4e51-939b-3226aa27cb9b');\n",
              "          const dataTable =\n",
              "            await google.colab.kernel.invokeFunction('convertToInteractive',\n",
              "                                                     [key], {});\n",
              "          if (!dataTable) return;\n",
              "\n",
              "          const docLinkHtml = 'Like what you see? Visit the ' +\n",
              "            '<a target=\"_blank\" href=https://colab.research.google.com/notebooks/data_table.ipynb>data table notebook</a>'\n",
              "            + ' to learn more about interactive tables.';\n",
              "          element.innerHTML = '';\n",
              "          dataTable['output_type'] = 'display_data';\n",
              "          await google.colab.output.renderOutput(dataTable, element);\n",
              "          const docLink = document.createElement('div');\n",
              "          docLink.innerHTML = docLinkHtml;\n",
              "          element.appendChild(docLink);\n",
              "        }\n",
              "      </script>\n",
              "    </div>\n",
              "  </div>\n",
              "  "
            ]
          },
          "metadata": {},
          "execution_count": 194
        }
      ]
    },
    {
      "cell_type": "code",
      "source": [
        "sns.heatmap(df.corr(),annot=True)"
      ],
      "metadata": {
        "colab": {
          "base_uri": "https://localhost:8080/",
          "height": 354
        },
        "id": "p4tJmxU81Dnw",
        "outputId": "2455c300-9088-4d57-fa1a-b9c0d366a070"
      },
      "execution_count": 196,
      "outputs": [
        {
          "output_type": "execute_result",
          "data": {
            "text/plain": [
              "<AxesSubplot:>"
            ]
          },
          "metadata": {},
          "execution_count": 196
        },
        {
          "output_type": "display_data",
          "data": {
            "text/plain": [
              "<Figure size 432x288 with 2 Axes>"
            ],
            "image/png": "[encoded data removed]"
          },
          "metadata": {
            "needs_background": "light"
          }
        }
      ]
    },
    {
      "cell_type": "code",
      "source": [
        "sns.heatmap(df[[\"Score\",\"AnswerCount\",\"Quality\"]].corr(),annot=True)"
      ],
      "metadata": {
        "colab": {
          "base_uri": "https://localhost:8080/",
          "height": 286
        },
        "id": "5PpjwYPvMxpB",
        "outputId": "94ce31a5-fbaa-4b1c-d820-51358a3e503e"
      },
      "execution_count": 198,
      "outputs": [
        {
          "output_type": "execute_result",
          "data": {
            "text/plain": [
              "<AxesSubplot:>"
            ]
          },
          "metadata": {},
          "execution_count": 198
        },
        {
          "output_type": "display_data",
          "data": {
            "text/plain": [
              "<Figure size 432x288 with 2 Axes>"
            ],
            "image/png": "[encoded data removed]"
          },
          "metadata": {
            "needs_background": "light"
          }
        }
      ]
    },
    {
      "cell_type": "code",
      "source": [
        "df[\"Body\"]=df[\"Body\"].fillna(\" \")\n",
        "df[\"Title\"]=df[\"Title\"].fillna(\" \")"
      ],
      "metadata": {
        "id": "VxzCK4Vl9bmU"
      },
      "execution_count": 57,
      "outputs": []
    },
    {
      "cell_type": "markdown",
      "source": [
        "**Using text column as it is to verify the accuracy.**"
      ],
      "metadata": {
        "id": "c1hMXTrKMhy5"
      }
    },
    {
      "cell_type": "code",
      "source": [
        "x=df[['AnswerCount','CommentCount','FavoriteCount','Score','ViewCount','Body','Title']]\n",
        "y=df[\"Quality\"]"
      ],
      "metadata": {
        "id": "clWsDH3t1c5h"
      },
      "execution_count": 58,
      "outputs": []
    },
    {
      "cell_type": "code",
      "source": [
        "from sklearn.model_selection import train_test_split\n",
        "x_train,x_test,y_train,y_test=train_test_split(x,y,test_size=0.30,stratify=y)"
      ],
      "metadata": {
        "id": "BcRiT7l_3sLp"
      },
      "execution_count": 59,
      "outputs": []
    },
    {
      "cell_type": "code",
      "source": [
        "from sklearn.preprocessing import FunctionTransformer\n",
        "from sklearn.pipeline import Pipeline\n",
        "from sklearn.feature_extraction.text import TfidfVectorizer\n",
        "from sklearn.ensemble import RandomForestClassifier\n",
        "from sklearn.preprocessing import StandardScaler\n",
        "from sklearn.pipeline import FeatureUnion\n",
        "\n",
        "get_text1_data = FunctionTransformer(lambda x: x['Body'], validate=False)\n",
        "get_text2_data = FunctionTransformer(lambda x: x['Title'], validate=False)\n",
        "get_numeric_data = FunctionTransformer(lambda x: x[['AnswerCount','CommentCount','FavoriteCount','Score','ViewCount']], validate=False)"
      ],
      "metadata": {
        "id": "CE5E0R5T1cJY"
      },
      "execution_count": 88,
      "outputs": []
    },
    {
      "cell_type": "code",
      "source": [
        "pipeline = Pipeline([\n",
        "    ('features', FeatureUnion([\n",
        "            ('numeric_features', Pipeline([\n",
        "                ('selector', get_numeric_data),\n",
        "                ('std',StandardScaler())\n",
        "            ])),\n",
        "             ('text1_features', Pipeline([\n",
        "                ('selector', get_text1_data),\n",
        "                ('vec', TfidfVectorizer(analyzer='word'))\n",
        "            ])),\n",
        "            ('text2_features', Pipeline([\n",
        "                ('selector', get_text2_data),\n",
        "                ('vec', TfidfVectorizer(analyzer='word'))\n",
        "            ]))\n",
        "         ])),\n",
        "    ('clf', RandomForestClassifier())\n",
        "])\n"
      ],
      "metadata": {
        "id": "AZIRit6o2kJ3"
      },
      "execution_count": 89,
      "outputs": []
    },
    {
      "cell_type": "code",
      "source": [
        "pipeline.fit(x_train,y_train)"
      ],
      "metadata": {
        "colab": {
          "base_uri": "https://localhost:8080/",
          "height": 217
        },
        "id": "LnTkAr2u3oiw",
        "outputId": "f28af875-c2f0-41f8-9f8c-220fd0af3f03"
      },
      "execution_count": 90,
      "outputs": [
        {
          "output_type": "execute_result",
          "data": {
            "text/plain": [
              "Pipeline(steps=[('features',\n",
              "                 FeatureUnion(transformer_list=[('numeric_features',\n",
              "                                                 Pipeline(steps=[('selector',\n",
              "                                                                  FunctionTransformer(func=<function <lambda> at 0x7ff8de4590d0>)),\n",
              "                                                                 ('std',\n",
              "                                                                  StandardScaler())])),\n",
              "                                                ('text1_features',\n",
              "                                                 Pipeline(steps=[('selector',\n",
              "                                                                  FunctionTransformer(func=<function <lambda> at 0x7ff8ce270940>)),\n",
              "                                                                 ('vec',\n",
              "                                                                  TfidfVectorizer())])),\n",
              "                                                ('text2_features',\n",
              "                                                 Pipeline(steps=[('selector',\n",
              "                                                                  FunctionTransformer(func=<function <lambda> at 0x7ff8de459040>)),\n",
              "                                                                 ('vec',\n",
              "                                                                  TfidfVectorizer())]))])),\n",
              "                ('clf', RandomForestClassifier())])"
            ],
            "text/html": [
              "<style>#sk-container-id-5 {color: black;background-color: white;}#sk-container-id-5 pre{padding: 0;}#sk-container-id-5 div.sk-toggleable {background-color: white;}#sk-container-id-5 label.sk-toggleable__label {cursor: pointer;display: block;width: 100%;margin-bottom: 0;padding: 0.3em;box-sizing: border-box;text-align: center;}#sk-container-id-5 label.sk-toggleable__label-arrow:before {content: \"▸\";float: left;margin-right: 0.25em;color: #696969;}#sk-container-id-5 label.sk-toggleable__label-arrow:hover:before {color: black;}#sk-container-id-5 div.sk-estimator:hover label.sk-toggleable__label-arrow:before {color: black;}#sk-container-id-5 div.sk-toggleable__content {max-height: 0;max-width: 0;overflow: hidden;text-align: left;background-color: #f0f8ff;}#sk-container-id-5 div.sk-toggleable__content pre {margin: 0.2em;color: black;border-radius: 0.25em;background-color: #f0f8ff;}#sk-container-id-5 input.sk-toggleable__control:checked~div.sk-toggleable__content {max-height: 200px;max-width: 100%;overflow: auto;}#sk-container-id-5 input.sk-toggleable__control:checked~label.sk-toggleable__label-arrow:before {content: \"▾\";}#sk-container-id-5 div.sk-estimator input.sk-toggleable__control:checked~label.sk-toggleable__label {background-color: #d4ebff;}#sk-container-id-5 div.sk-label input.sk-toggleable__control:checked~label.sk-toggleable__label {background-color: #d4ebff;}#sk-container-id-5 input.sk-hidden--visually {border: 0;clip: rect(1px 1px 1px 1px);clip: rect(1px, 1px, 1px, 1px);height: 1px;margin: -1px;overflow: hidden;padding: 0;position: absolute;width: 1px;}#sk-container-id-5 div.sk-estimator {font-family: monospace;background-color: #f0f8ff;border: 1px dotted black;border-radius: 0.25em;box-sizing: border-box;margin-bottom: 0.5em;}#sk-container-id-5 div.sk-estimator:hover {background-color: #d4ebff;}#sk-container-id-5 div.sk-parallel-item::after {content: \"\";width: 100%;border-bottom: 1px solid gray;flex-grow: 1;}#sk-container-id-5 div.sk-label:hover label.sk-toggleable__label {background-color: #d4ebff;}#sk-container-id-5 div.sk-serial::before {content: \"\";position: absolute;border-left: 1px solid gray;box-sizing: border-box;top: 0;bottom: 0;left: 50%;z-index: 0;}#sk-container-id-5 div.sk-serial {display: flex;flex-direction: column;align-items: center;background-color: white;padding-right: 0.2em;padding-left: 0.2em;position: relative;}#sk-container-id-5 div.sk-item {position: relative;z-index: 1;}#sk-container-id-5 div.sk-parallel {display: flex;align-items: stretch;justify-content: center;background-color: white;position: relative;}#sk-container-id-5 div.sk-item::before, #sk-container-id-5 div.sk-parallel-item::before {content: \"\";position: absolute;border-left: 1px solid gray;box-sizing: border-box;top: 0;bottom: 0;left: 50%;z-index: -1;}#sk-container-id-5 div.sk-parallel-item {display: flex;flex-direction: column;z-index: 1;position: relative;background-color: white;}#sk-container-id-5 div.sk-parallel-item:first-child::after {align-self: flex-end;width: 50%;}#sk-container-id-5 div.sk-parallel-item:last-child::after {align-self: flex-start;width: 50%;}#sk-container-id-5 div.sk-parallel-item:only-child::after {width: 0;}#sk-container-id-5 div.sk-dashed-wrapped {border: 1px dashed gray;margin: 0 0.4em 0.5em 0.4em;box-sizing: border-box;padding-bottom: 0.4em;background-color: white;}#sk-container-id-5 div.sk-label label {font-family: monospace;font-weight: bold;display: inline-block;line-height: 1.2em;}#sk-container-id-5 div.sk-label-container {text-align: center;}#sk-container-id-5 div.sk-container {/* jupyter's `normalize.less` sets `[hidden] { display: none; }` but bootstrap.min.css set `[hidden] { display: none !important; }` so we also need the `!important` here to be able to override the default hidden behavior on the sphinx rendered scikit-learn.org. See: https://github.com/scikit-learn/scikit-learn/issues/21755 */display: inline-block !important;position: relative;}#sk-container-id-5 div.sk-text-repr-fallback {display: none;}</style><div id=\"sk-container-id-5\" class=\"sk-top-container\"><div class=\"sk-text-repr-fallback\"><pre>Pipeline(steps=[(&#x27;features&#x27;,\n",
              "                 FeatureUnion(transformer_list=[(&#x27;numeric_features&#x27;,\n",
              "                                                 Pipeline(steps=[(&#x27;selector&#x27;,\n",
              "                                                                  FunctionTransformer(func=&lt;function &lt;lambda&gt; at 0x7ff8de4590d0&gt;)),\n",
              "                                                                 (&#x27;std&#x27;,\n",
              "                                                                  StandardScaler())])),\n",
              "                                                (&#x27;text1_features&#x27;,\n",
              "                                                 Pipeline(steps=[(&#x27;selector&#x27;,\n",
              "                                                                  FunctionTransformer(func=&lt;function &lt;lambda&gt; at 0x7ff8ce270940&gt;)),\n",
              "                                                                 (&#x27;vec&#x27;,\n",
              "                                                                  TfidfVectorizer())])),\n",
              "                                                (&#x27;text2_features&#x27;,\n",
              "                                                 Pipeline(steps=[(&#x27;selector&#x27;,\n",
              "                                                                  FunctionTransformer(func=&lt;function &lt;lambda&gt; at 0x7ff8de459040&gt;)),\n",
              "                                                                 (&#x27;vec&#x27;,\n",
              "                                                                  TfidfVectorizer())]))])),\n",
              "                (&#x27;clf&#x27;, RandomForestClassifier())])</pre><b>In a Jupyter environment, please rerun this cell to show the HTML representation or trust the notebook. <br />On GitHub, the HTML representation is unable to render, please try loading this page with nbviewer.org.</b></div><div class=\"sk-container\" hidden><div class=\"sk-item sk-dashed-wrapped\"><div class=\"sk-label-container\"><div class=\"sk-label sk-toggleable\"><input class=\"sk-toggleable__control sk-hidden--visually\" id=\"sk-estimator-id-29\" type=\"checkbox\" ><label for=\"sk-estimator-id-29\" class=\"sk-toggleable__label sk-toggleable__label-arrow\">Pipeline</label><div class=\"sk-toggleable__content\"><pre>Pipeline(steps=[(&#x27;features&#x27;,\n",
              "                 FeatureUnion(transformer_list=[(&#x27;numeric_features&#x27;,\n",
              "                                                 Pipeline(steps=[(&#x27;selector&#x27;,\n",
              "                                                                  FunctionTransformer(func=&lt;function &lt;lambda&gt; at 0x7ff8de4590d0&gt;)),\n",
              "                                                                 (&#x27;std&#x27;,\n",
              "                                                                  StandardScaler())])),\n",
              "                                                (&#x27;text1_features&#x27;,\n",
              "                                                 Pipeline(steps=[(&#x27;selector&#x27;,\n",
              "                                                                  FunctionTransformer(func=&lt;function &lt;lambda&gt; at 0x7ff8ce270940&gt;)),\n",
              "                                                                 (&#x27;vec&#x27;,\n",
              "                                                                  TfidfVectorizer())])),\n",
              "                                                (&#x27;text2_features&#x27;,\n",
              "                                                 Pipeline(steps=[(&#x27;selector&#x27;,\n",
              "                                                                  FunctionTransformer(func=&lt;function &lt;lambda&gt; at 0x7ff8de459040&gt;)),\n",
              "                                                                 (&#x27;vec&#x27;,\n",
              "                                                                  TfidfVectorizer())]))])),\n",
              "                (&#x27;clf&#x27;, RandomForestClassifier())])</pre></div></div></div><div class=\"sk-serial\"><div class=\"sk-item sk-dashed-wrapped\"><div class=\"sk-label-container\"><div class=\"sk-label sk-toggleable\"><input class=\"sk-toggleable__control sk-hidden--visually\" id=\"sk-estimator-id-30\" type=\"checkbox\" ><label for=\"sk-estimator-id-30\" class=\"sk-toggleable__label sk-toggleable__label-arrow\">features: FeatureUnion</label><div class=\"sk-toggleable__content\"><pre>FeatureUnion(transformer_list=[(&#x27;numeric_features&#x27;,\n",
              "                                Pipeline(steps=[(&#x27;selector&#x27;,\n",
              "                                                 FunctionTransformer(func=&lt;function &lt;lambda&gt; at 0x7ff8de4590d0&gt;)),\n",
              "                                                (&#x27;std&#x27;, StandardScaler())])),\n",
              "                               (&#x27;text1_features&#x27;,\n",
              "                                Pipeline(steps=[(&#x27;selector&#x27;,\n",
              "                                                 FunctionTransformer(func=&lt;function &lt;lambda&gt; at 0x7ff8ce270940&gt;)),\n",
              "                                                (&#x27;vec&#x27;, TfidfVectorizer())])),\n",
              "                               (&#x27;text2_features&#x27;,\n",
              "                                Pipeline(steps=[(&#x27;selector&#x27;,\n",
              "                                                 FunctionTransformer(func=&lt;function &lt;lambda&gt; at 0x7ff8de459040&gt;)),\n",
              "                                                (&#x27;vec&#x27;, TfidfVectorizer())]))])</pre></div></div></div><div class=\"sk-parallel\"><div class=\"sk-parallel-item\"><div class=\"sk-item\"><div class=\"sk-label-container\"><div class=\"sk-label sk-toggleable\"><label>numeric_features</label></div></div><div class=\"sk-serial\"><div class=\"sk-item\"><div class=\"sk-serial\"><div class=\"sk-item\"><div class=\"sk-estimator sk-toggleable\"><input class=\"sk-toggleable__control sk-hidden--visually\" id=\"sk-estimator-id-31\" type=\"checkbox\" ><label for=\"sk-estimator-id-31\" class=\"sk-toggleable__label sk-toggleable__label-arrow\">FunctionTransformer</label><div class=\"sk-toggleable__content\"><pre>FunctionTransformer(func=&lt;function &lt;lambda&gt; at 0x7ff8de4590d0&gt;)</pre></div></div></div><div class=\"sk-item\"><div class=\"sk-estimator sk-toggleable\"><input class=\"sk-toggleable__control sk-hidden--visually\" id=\"sk-estimator-id-32\" type=\"checkbox\" ><label for=\"sk-estimator-id-32\" class=\"sk-toggleable__label sk-toggleable__label-arrow\">StandardScaler</label><div class=\"sk-toggleable__content\"><pre>StandardScaler()</pre></div></div></div></div></div></div></div></div><div class=\"sk-parallel-item\"><div class=\"sk-item\"><div class=\"sk-label-container\"><div class=\"sk-label sk-toggleable\"><label>text1_features</label></div></div><div class=\"sk-serial\"><div class=\"sk-item\"><div class=\"sk-serial\"><div class=\"sk-item\"><div class=\"sk-estimator sk-toggleable\"><input class=\"sk-toggleable__control sk-hidden--visually\" id=\"sk-estimator-id-33\" type=\"checkbox\" ><label for=\"sk-estimator-id-33\" class=\"sk-toggleable__label sk-toggleable__label-arrow\">FunctionTransformer</label><div class=\"sk-toggleable__content\"><pre>FunctionTransformer(func=&lt;function &lt;lambda&gt; at 0x7ff8ce270940&gt;)</pre></div></div></div><div class=\"sk-item\"><div class=\"sk-estimator sk-toggleable\"><input class=\"sk-toggleable__control sk-hidden--visually\" id=\"sk-estimator-id-34\" type=\"checkbox\" ><label for=\"sk-estimator-id-34\" class=\"sk-toggleable__label sk-toggleable__label-arrow\">TfidfVectorizer</label><div class=\"sk-toggleable__content\"><pre>TfidfVectorizer()</pre></div></div></div></div></div></div></div></div><div class=\"sk-parallel-item\"><div class=\"sk-item\"><div class=\"sk-label-container\"><div class=\"sk-label sk-toggleable\"><label>text2_features</label></div></div><div class=\"sk-serial\"><div class=\"sk-item\"><div class=\"sk-serial\"><div class=\"sk-item\"><div class=\"sk-estimator sk-toggleable\"><input class=\"sk-toggleable__control sk-hidden--visually\" id=\"sk-estimator-id-35\" type=\"checkbox\" ><label for=\"sk-estimator-id-35\" class=\"sk-toggleable__label sk-toggleable__label-arrow\">FunctionTransformer</label><div class=\"sk-toggleable__content\"><pre>FunctionTransformer(func=&lt;function &lt;lambda&gt; at 0x7ff8de459040&gt;)</pre></div></div></div><div class=\"sk-item\"><div class=\"sk-estimator sk-toggleable\"><input class=\"sk-toggleable__control sk-hidden--visually\" id=\"sk-estimator-id-36\" type=\"checkbox\" ><label for=\"sk-estimator-id-36\" class=\"sk-toggleable__label sk-toggleable__label-arrow\">TfidfVectorizer</label><div class=\"sk-toggleable__content\"><pre>TfidfVectorizer()</pre></div></div></div></div></div></div></div></div></div></div><div class=\"sk-item\"><div class=\"sk-estimator sk-toggleable\"><input class=\"sk-toggleable__control sk-hidden--visually\" id=\"sk-estimator-id-37\" type=\"checkbox\" ><label for=\"sk-estimator-id-37\" class=\"sk-toggleable__label sk-toggleable__label-arrow\">RandomForestClassifier</label><div class=\"sk-toggleable__content\"><pre>RandomForestClassifier()</pre></div></div></div></div></div></div></div>"
            ]
          },
          "metadata": {},
          "execution_count": 90
        }
      ]
    },
    {
      "cell_type": "code",
      "source": [
        "y_pred=pipeline.predict(x_test)\n",
        "y_pred"
      ],
      "metadata": {
        "colab": {
          "base_uri": "https://localhost:8080/"
        },
        "id": "339k-yptUKcT",
        "outputId": "fee4a9f8-12e2-415e-f514-2fd0103b2777"
      },
      "execution_count": 91,
      "outputs": [
        {
          "output_type": "execute_result",
          "data": {
            "text/plain": [
              "array([1, 1, 1, ..., 1, 1, 1])"
            ]
          },
          "metadata": {},
          "execution_count": 91
        }
      ]
    },
    {
      "cell_type": "code",
      "source": [
        "y_pred.shape"
      ],
      "metadata": {
        "colab": {
          "base_uri": "https://localhost:8080/"
        },
        "id": "o8BsJZfdikQ2",
        "outputId": "16a0d646-697b-4e66-88e3-60c381f6c4f3"
      },
      "execution_count": 92,
      "outputs": [
        {
          "output_type": "execute_result",
          "data": {
            "text/plain": [
              "(41613,)"
            ]
          },
          "metadata": {},
          "execution_count": 92
        }
      ]
    },
    {
      "cell_type": "code",
      "source": [
        "y_test.shape"
      ],
      "metadata": {
        "colab": {
          "base_uri": "https://localhost:8080/"
        },
        "id": "vsDMDr3XibN8",
        "outputId": "e1d5bb0f-9a89-4617-9b94-f27312038601"
      },
      "execution_count": 93,
      "outputs": [
        {
          "output_type": "execute_result",
          "data": {
            "text/plain": [
              "(41613,)"
            ]
          },
          "metadata": {},
          "execution_count": 93
        }
      ]
    },
    {
      "cell_type": "code",
      "source": [
        "from sklearn.metrics import roc_auc_score,accuracy_score,classification_report\n",
        "print(accuracy_score(y_test,y_pred))\n",
        "print(classification_report(y_test,y_pred))"
      ],
      "metadata": {
        "colab": {
          "base_uri": "https://localhost:8080/"
        },
        "id": "8vTyvIcXUVMG",
        "outputId": "deb65aa8-3d70-46d8-bc17-8c15fdf8eb41"
      },
      "execution_count": 95,
      "outputs": [
        {
          "output_type": "stream",
          "name": "stdout",
          "text": [
            "0.9228366135582631\n",
            "              precision    recall  f1-score   support\n",
            "\n",
            "           0       1.00      0.66      0.80      4736\n",
            "           1       0.91      1.00      0.96     34491\n",
            "           2       1.00      0.32      0.49      2386\n",
            "\n",
            "    accuracy                           0.92     41613\n",
            "   macro avg       0.97      0.66      0.75     41613\n",
            "weighted avg       0.93      0.92      0.91     41613\n",
            "\n"
          ]
        }
      ]
    },
    {
      "cell_type": "code",
      "source": [
        "y_pred=pipeline.predict_proba(x_test)"
      ],
      "metadata": {
        "id": "UHY4gaMHWMKs"
      },
      "execution_count": 96,
      "outputs": []
    },
    {
      "cell_type": "code",
      "source": [
        "roc_auc_score(y_test,y_pred,multi_class='ovo')"
      ],
      "metadata": {
        "colab": {
          "base_uri": "https://localhost:8080/"
        },
        "id": "93OpPq-RVED0",
        "outputId": "11672a05-9c0e-4a48-dad6-ea714cc1cdc4"
      },
      "execution_count": 97,
      "outputs": [
        {
          "output_type": "execute_result",
          "data": {
            "text/plain": [
              "0.9990140132398344"
            ]
          },
          "metadata": {},
          "execution_count": 97
        }
      ]
    },
    {
      "cell_type": "code",
      "source": [
        "from sklearn.linear_model import LogisticRegression\n",
        "pipeline = Pipeline([\n",
        "    ('features', FeatureUnion([\n",
        "            ('numeric_features', Pipeline([\n",
        "                ('selector', get_numeric_data),\n",
        "                ('std',StandardScaler())\n",
        "            ])),\n",
        "             ('text1_features', Pipeline([\n",
        "                ('selector', get_text1_data),\n",
        "                ('vec', TfidfVectorizer(analyzer='word'))\n",
        "            ])),\n",
        "            ('text2_features', Pipeline([\n",
        "                ('selector', get_text2_data),\n",
        "                ('vec', TfidfVectorizer(analyzer='word'))\n",
        "            ]))\n",
        "         ])),\n",
        "    ('clf', LogisticRegression())\n",
        "])\n"
      ],
      "metadata": {
        "id": "_XGPhUcUWc-j"
      },
      "execution_count": 120,
      "outputs": []
    },
    {
      "cell_type": "code",
      "source": [
        "pipeline.fit(x_train,y_train)"
      ],
      "metadata": {
        "colab": {
          "base_uri": "https://localhost:8080/",
          "height": 217
        },
        "id": "dicZqnmmWsKY",
        "outputId": "146de8d8-9900-448c-af67-96855c1761d7"
      },
      "execution_count": 121,
      "outputs": [
        {
          "output_type": "execute_result",
          "data": {
            "text/plain": [
              "Pipeline(steps=[('features',\n",
              "                 FeatureUnion(transformer_list=[('numeric_features',\n",
              "                                                 Pipeline(steps=[('selector',\n",
              "                                                                  FunctionTransformer(func=<function <lambda> at 0x7ff8de4590d0>)),\n",
              "                                                                 ('std',\n",
              "                                                                  StandardScaler())])),\n",
              "                                                ('text1_features',\n",
              "                                                 Pipeline(steps=[('selector',\n",
              "                                                                  FunctionTransformer(func=<function <lambda> at 0x7ff8ce270940>)),\n",
              "                                                                 ('vec',\n",
              "                                                                  TfidfVectorizer())])),\n",
              "                                                ('text2_features',\n",
              "                                                 Pipeline(steps=[('selector',\n",
              "                                                                  FunctionTransformer(func=<function <lambda> at 0x7ff8de459040>)),\n",
              "                                                                 ('vec',\n",
              "                                                                  TfidfVectorizer())]))])),\n",
              "                ('clf', LogisticRegression())])"
            ],
            "text/html": [
              "<style>#sk-container-id-8 {color: black;background-color: white;}#sk-container-id-8 pre{padding: 0;}#sk-container-id-8 div.sk-toggleable {background-color: white;}#sk-container-id-8 label.sk-toggleable__label {cursor: pointer;display: block;width: 100%;margin-bottom: 0;padding: 0.3em;box-sizing: border-box;text-align: center;}#sk-container-id-8 label.sk-toggleable__label-arrow:before {content: \"▸\";float: left;margin-right: 0.25em;color: #696969;}#sk-container-id-8 label.sk-toggleable__label-arrow:hover:before {color: black;}#sk-container-id-8 div.sk-estimator:hover label.sk-toggleable__label-arrow:before {color: black;}#sk-container-id-8 div.sk-toggleable__content {max-height: 0;max-width: 0;overflow: hidden;text-align: left;background-color: #f0f8ff;}#sk-container-id-8 div.sk-toggleable__content pre {margin: 0.2em;color: black;border-radius: 0.25em;background-color: #f0f8ff;}#sk-container-id-8 input.sk-toggleable__control:checked~div.sk-toggleable__content {max-height: 200px;max-width: 100%;overflow: auto;}#sk-container-id-8 input.sk-toggleable__control:checked~label.sk-toggleable__label-arrow:before {content: \"▾\";}#sk-container-id-8 div.sk-estimator input.sk-toggleable__control:checked~label.sk-toggleable__label {background-color: #d4ebff;}#sk-container-id-8 div.sk-label input.sk-toggleable__control:checked~label.sk-toggleable__label {background-color: #d4ebff;}#sk-container-id-8 input.sk-hidden--visually {border: 0;clip: rect(1px 1px 1px 1px);clip: rect(1px, 1px, 1px, 1px);height: 1px;margin: -1px;overflow: hidden;padding: 0;position: absolute;width: 1px;}#sk-container-id-8 div.sk-estimator {font-family: monospace;background-color: #f0f8ff;border: 1px dotted black;border-radius: 0.25em;box-sizing: border-box;margin-bottom: 0.5em;}#sk-container-id-8 div.sk-estimator:hover {background-color: #d4ebff;}#sk-container-id-8 div.sk-parallel-item::after {content: \"\";width: 100%;border-bottom: 1px solid gray;flex-grow: 1;}#sk-container-id-8 div.sk-label:hover label.sk-toggleable__label {background-color: #d4ebff;}#sk-container-id-8 div.sk-serial::before {content: \"\";position: absolute;border-left: 1px solid gray;box-sizing: border-box;top: 0;bottom: 0;left: 50%;z-index: 0;}#sk-container-id-8 div.sk-serial {display: flex;flex-direction: column;align-items: center;background-color: white;padding-right: 0.2em;padding-left: 0.2em;position: relative;}#sk-container-id-8 div.sk-item {position: relative;z-index: 1;}#sk-container-id-8 div.sk-parallel {display: flex;align-items: stretch;justify-content: center;background-color: white;position: relative;}#sk-container-id-8 div.sk-item::before, #sk-container-id-8 div.sk-parallel-item::before {content: \"\";position: absolute;border-left: 1px solid gray;box-sizing: border-box;top: 0;bottom: 0;left: 50%;z-index: -1;}#sk-container-id-8 div.sk-parallel-item {display: flex;flex-direction: column;z-index: 1;position: relative;background-color: white;}#sk-container-id-8 div.sk-parallel-item:first-child::after {align-self: flex-end;width: 50%;}#sk-container-id-8 div.sk-parallel-item:last-child::after {align-self: flex-start;width: 50%;}#sk-container-id-8 div.sk-parallel-item:only-child::after {width: 0;}#sk-container-id-8 div.sk-dashed-wrapped {border: 1px dashed gray;margin: 0 0.4em 0.5em 0.4em;box-sizing: border-box;padding-bottom: 0.4em;background-color: white;}#sk-container-id-8 div.sk-label label {font-family: monospace;font-weight: bold;display: inline-block;line-height: 1.2em;}#sk-container-id-8 div.sk-label-container {text-align: center;}#sk-container-id-8 div.sk-container {/* jupyter's `normalize.less` sets `[hidden] { display: none; }` but bootstrap.min.css set `[hidden] { display: none !important; }` so we also need the `!important` here to be able to override the default hidden behavior on the sphinx rendered scikit-learn.org. See: https://github.com/scikit-learn/scikit-learn/issues/21755 */display: inline-block !important;position: relative;}#sk-container-id-8 div.sk-text-repr-fallback {display: none;}</style><div id=\"sk-container-id-8\" class=\"sk-top-container\"><div class=\"sk-text-repr-fallback\"><pre>Pipeline(steps=[(&#x27;features&#x27;,\n",
              "                 FeatureUnion(transformer_list=[(&#x27;numeric_features&#x27;,\n",
              "                                                 Pipeline(steps=[(&#x27;selector&#x27;,\n",
              "                                                                  FunctionTransformer(func=&lt;function &lt;lambda&gt; at 0x7ff8de4590d0&gt;)),\n",
              "                                                                 (&#x27;std&#x27;,\n",
              "                                                                  StandardScaler())])),\n",
              "                                                (&#x27;text1_features&#x27;,\n",
              "                                                 Pipeline(steps=[(&#x27;selector&#x27;,\n",
              "                                                                  FunctionTransformer(func=&lt;function &lt;lambda&gt; at 0x7ff8ce270940&gt;)),\n",
              "                                                                 (&#x27;vec&#x27;,\n",
              "                                                                  TfidfVectorizer())])),\n",
              "                                                (&#x27;text2_features&#x27;,\n",
              "                                                 Pipeline(steps=[(&#x27;selector&#x27;,\n",
              "                                                                  FunctionTransformer(func=&lt;function &lt;lambda&gt; at 0x7ff8de459040&gt;)),\n",
              "                                                                 (&#x27;vec&#x27;,\n",
              "                                                                  TfidfVectorizer())]))])),\n",
              "                (&#x27;clf&#x27;, LogisticRegression())])</pre><b>In a Jupyter environment, please rerun this cell to show the HTML representation or trust the notebook. <br />On GitHub, the HTML representation is unable to render, please try loading this page with nbviewer.org.</b></div><div class=\"sk-container\" hidden><div class=\"sk-item sk-dashed-wrapped\"><div class=\"sk-label-container\"><div class=\"sk-label sk-toggleable\"><input class=\"sk-toggleable__control sk-hidden--visually\" id=\"sk-estimator-id-56\" type=\"checkbox\" ><label for=\"sk-estimator-id-56\" class=\"sk-toggleable__label sk-toggleable__label-arrow\">Pipeline</label><div class=\"sk-toggleable__content\"><pre>Pipeline(steps=[(&#x27;features&#x27;,\n",
              "                 FeatureUnion(transformer_list=[(&#x27;numeric_features&#x27;,\n",
              "                                                 Pipeline(steps=[(&#x27;selector&#x27;,\n",
              "                                                                  FunctionTransformer(func=&lt;function &lt;lambda&gt; at 0x7ff8de4590d0&gt;)),\n",
              "                                                                 (&#x27;std&#x27;,\n",
              "                                                                  StandardScaler())])),\n",
              "                                                (&#x27;text1_features&#x27;,\n",
              "                                                 Pipeline(steps=[(&#x27;selector&#x27;,\n",
              "                                                                  FunctionTransformer(func=&lt;function &lt;lambda&gt; at 0x7ff8ce270940&gt;)),\n",
              "                                                                 (&#x27;vec&#x27;,\n",
              "                                                                  TfidfVectorizer())])),\n",
              "                                                (&#x27;text2_features&#x27;,\n",
              "                                                 Pipeline(steps=[(&#x27;selector&#x27;,\n",
              "                                                                  FunctionTransformer(func=&lt;function &lt;lambda&gt; at 0x7ff8de459040&gt;)),\n",
              "                                                                 (&#x27;vec&#x27;,\n",
              "                                                                  TfidfVectorizer())]))])),\n",
              "                (&#x27;clf&#x27;, LogisticRegression())])</pre></div></div></div><div class=\"sk-serial\"><div class=\"sk-item sk-dashed-wrapped\"><div class=\"sk-label-container\"><div class=\"sk-label sk-toggleable\"><input class=\"sk-toggleable__control sk-hidden--visually\" id=\"sk-estimator-id-57\" type=\"checkbox\" ><label for=\"sk-estimator-id-57\" class=\"sk-toggleable__label sk-toggleable__label-arrow\">features: FeatureUnion</label><div class=\"sk-toggleable__content\"><pre>FeatureUnion(transformer_list=[(&#x27;numeric_features&#x27;,\n",
              "                                Pipeline(steps=[(&#x27;selector&#x27;,\n",
              "                                                 FunctionTransformer(func=&lt;function &lt;lambda&gt; at 0x7ff8de4590d0&gt;)),\n",
              "                                                (&#x27;std&#x27;, StandardScaler())])),\n",
              "                               (&#x27;text1_features&#x27;,\n",
              "                                Pipeline(steps=[(&#x27;selector&#x27;,\n",
              "                                                 FunctionTransformer(func=&lt;function &lt;lambda&gt; at 0x7ff8ce270940&gt;)),\n",
              "                                                (&#x27;vec&#x27;, TfidfVectorizer())])),\n",
              "                               (&#x27;text2_features&#x27;,\n",
              "                                Pipeline(steps=[(&#x27;selector&#x27;,\n",
              "                                                 FunctionTransformer(func=&lt;function &lt;lambda&gt; at 0x7ff8de459040&gt;)),\n",
              "                                                (&#x27;vec&#x27;, TfidfVectorizer())]))])</pre></div></div></div><div class=\"sk-parallel\"><div class=\"sk-parallel-item\"><div class=\"sk-item\"><div class=\"sk-label-container\"><div class=\"sk-label sk-toggleable\"><label>numeric_features</label></div></div><div class=\"sk-serial\"><div class=\"sk-item\"><div class=\"sk-serial\"><div class=\"sk-item\"><div class=\"sk-estimator sk-toggleable\"><input class=\"sk-toggleable__control sk-hidden--visually\" id=\"sk-estimator-id-58\" type=\"checkbox\" ><label for=\"sk-estimator-id-58\" class=\"sk-toggleable__label sk-toggleable__label-arrow\">FunctionTransformer</label><div class=\"sk-toggleable__content\"><pre>FunctionTransformer(func=&lt;function &lt;lambda&gt; at 0x7ff8de4590d0&gt;)</pre></div></div></div><div class=\"sk-item\"><div class=\"sk-estimator sk-toggleable\"><input class=\"sk-toggleable__control sk-hidden--visually\" id=\"sk-estimator-id-59\" type=\"checkbox\" ><label for=\"sk-estimator-id-59\" class=\"sk-toggleable__label sk-toggleable__label-arrow\">StandardScaler</label><div class=\"sk-toggleable__content\"><pre>StandardScaler()</pre></div></div></div></div></div></div></div></div><div class=\"sk-parallel-item\"><div class=\"sk-item\"><div class=\"sk-label-container\"><div class=\"sk-label sk-toggleable\"><label>text1_features</label></div></div><div class=\"sk-serial\"><div class=\"sk-item\"><div class=\"sk-serial\"><div class=\"sk-item\"><div class=\"sk-estimator sk-toggleable\"><input class=\"sk-toggleable__control sk-hidden--visually\" id=\"sk-estimator-id-60\" type=\"checkbox\" ><label for=\"sk-estimator-id-60\" class=\"sk-toggleable__label sk-toggleable__label-arrow\">FunctionTransformer</label><div class=\"sk-toggleable__content\"><pre>FunctionTransformer(func=&lt;function &lt;lambda&gt; at 0x7ff8ce270940&gt;)</pre></div></div></div><div class=\"sk-item\"><div class=\"sk-estimator sk-toggleable\"><input class=\"sk-toggleable__control sk-hidden--visually\" id=\"sk-estimator-id-61\" type=\"checkbox\" ><label for=\"sk-estimator-id-61\" class=\"sk-toggleable__label sk-toggleable__label-arrow\">TfidfVectorizer</label><div class=\"sk-toggleable__content\"><pre>TfidfVectorizer()</pre></div></div></div></div></div></div></div></div><div class=\"sk-parallel-item\"><div class=\"sk-item\"><div class=\"sk-label-container\"><div class=\"sk-label sk-toggleable\"><label>text2_features</label></div></div><div class=\"sk-serial\"><div class=\"sk-item\"><div class=\"sk-serial\"><div class=\"sk-item\"><div class=\"sk-estimator sk-toggleable\"><input class=\"sk-toggleable__control sk-hidden--visually\" id=\"sk-estimator-id-62\" type=\"checkbox\" ><label for=\"sk-estimator-id-62\" class=\"sk-toggleable__label sk-toggleable__label-arrow\">FunctionTransformer</label><div class=\"sk-toggleable__content\"><pre>FunctionTransformer(func=&lt;function &lt;lambda&gt; at 0x7ff8de459040&gt;)</pre></div></div></div><div class=\"sk-item\"><div class=\"sk-estimator sk-toggleable\"><input class=\"sk-toggleable__control sk-hidden--visually\" id=\"sk-estimator-id-63\" type=\"checkbox\" ><label for=\"sk-estimator-id-63\" class=\"sk-toggleable__label sk-toggleable__label-arrow\">TfidfVectorizer</label><div class=\"sk-toggleable__content\"><pre>TfidfVectorizer()</pre></div></div></div></div></div></div></div></div></div></div><div class=\"sk-item\"><div class=\"sk-estimator sk-toggleable\"><input class=\"sk-toggleable__control sk-hidden--visually\" id=\"sk-estimator-id-64\" type=\"checkbox\" ><label for=\"sk-estimator-id-64\" class=\"sk-toggleable__label sk-toggleable__label-arrow\">LogisticRegression</label><div class=\"sk-toggleable__content\"><pre>LogisticRegression()</pre></div></div></div></div></div></div></div>"
            ]
          },
          "metadata": {},
          "execution_count": 121
        }
      ]
    },
    {
      "cell_type": "code",
      "source": [
        "y_pred=pipeline.predict(x_test)"
      ],
      "metadata": {
        "id": "58QPvBBWXAgb"
      },
      "execution_count": 122,
      "outputs": []
    },
    {
      "cell_type": "code",
      "source": [
        "print(accuracy_score(y_test,y_pred))\n",
        "print(classification_report(y_test,y_pred))"
      ],
      "metadata": {
        "colab": {
          "base_uri": "https://localhost:8080/"
        },
        "id": "wAQLorLNXFGb",
        "outputId": "e6e0cbbf-bc4b-4bc4-b753-487ff66cc247"
      },
      "execution_count": 123,
      "outputs": [
        {
          "output_type": "stream",
          "name": "stdout",
          "text": [
            "1.0\n",
            "              precision    recall  f1-score   support\n",
            "\n",
            "           0       1.00      1.00      1.00      4736\n",
            "           1       1.00      1.00      1.00     34491\n",
            "           2       1.00      1.00      1.00      2386\n",
            "\n",
            "    accuracy                           1.00     41613\n",
            "   macro avg       1.00      1.00      1.00     41613\n",
            "weighted avg       1.00      1.00      1.00     41613\n",
            "\n"
          ]
        }
      ]
    },
    {
      "cell_type": "code",
      "source": [
        "y_pred=pipeline.predict_proba(x_test)\n",
        "roc_auc_score(y_test,y_pred,multi_class='ovr')"
      ],
      "metadata": {
        "colab": {
          "base_uri": "https://localhost:8080/"
        },
        "id": "qA-tEhPa1loY",
        "outputId": "b9920c52-4184-43d5-fdf9-20662ec4863f"
      },
      "execution_count": 125,
      "outputs": [
        {
          "output_type": "execute_result",
          "data": {
            "text/plain": [
              "1.0"
            ]
          },
          "metadata": {},
          "execution_count": 125
        }
      ]
    },
    {
      "cell_type": "code",
      "source": [
        "from sklearn.naive_bayes import MultinomialNB\n",
        "from sklearn.preprocessing import MinMaxScaler\n",
        "pipeline = Pipeline([\n",
        "    ('features', FeatureUnion([\n",
        "            ('numeric_features', Pipeline([\n",
        "                ('selector', get_numeric_data),\n",
        "                ('std',MinMaxScaler())\n",
        "            ])),\n",
        "             ('text1_features', Pipeline([\n",
        "                ('selector', get_text1_data),\n",
        "                ('vec', TfidfVectorizer(analyzer='word'))\n",
        "            ])),\n",
        "            ('text2_features', Pipeline([\n",
        "                ('selector', get_text2_data),\n",
        "                ('vec', TfidfVectorizer(analyzer='word'))\n",
        "            ]))\n",
        "         ])),\n",
        "    ('clf', MultinomialNB())\n",
        "])\n"
      ],
      "metadata": {
        "id": "i7z4WL0fpEf3"
      },
      "execution_count": 110,
      "outputs": []
    },
    {
      "cell_type": "code",
      "source": [
        "pipeline.fit(x_train,y_train)"
      ],
      "metadata": {
        "colab": {
          "base_uri": "https://localhost:8080/",
          "height": 217
        },
        "id": "khulPph8zdiL",
        "outputId": "f4ef0338-e54d-42a8-e34c-9de7af949c5a"
      },
      "execution_count": 111,
      "outputs": [
        {
          "output_type": "execute_result",
          "data": {
            "text/plain": [
              "Pipeline(steps=[('features',\n",
              "                 FeatureUnion(transformer_list=[('numeric_features',\n",
              "                                                 Pipeline(steps=[('selector',\n",
              "                                                                  FunctionTransformer(func=<function <lambda> at 0x7ff8de4590d0>)),\n",
              "                                                                 ('std',\n",
              "                                                                  MinMaxScaler())])),\n",
              "                                                ('text1_features',\n",
              "                                                 Pipeline(steps=[('selector',\n",
              "                                                                  FunctionTransformer(func=<function <lambda> at 0x7ff8ce270940>)),\n",
              "                                                                 ('vec',\n",
              "                                                                  TfidfVectorizer())])),\n",
              "                                                ('text2_features',\n",
              "                                                 Pipeline(steps=[('selector',\n",
              "                                                                  FunctionTransformer(func=<function <lambda> at 0x7ff8de459040>)),\n",
              "                                                                 ('vec',\n",
              "                                                                  TfidfVectorizer())]))])),\n",
              "                ('clf', MultinomialNB())])"
            ],
            "text/html": [
              "<style>#sk-container-id-7 {color: black;background-color: white;}#sk-container-id-7 pre{padding: 0;}#sk-container-id-7 div.sk-toggleable {background-color: white;}#sk-container-id-7 label.sk-toggleable__label {cursor: pointer;display: block;width: 100%;margin-bottom: 0;padding: 0.3em;box-sizing: border-box;text-align: center;}#sk-container-id-7 label.sk-toggleable__label-arrow:before {content: \"▸\";float: left;margin-right: 0.25em;color: #696969;}#sk-container-id-7 label.sk-toggleable__label-arrow:hover:before {color: black;}#sk-container-id-7 div.sk-estimator:hover label.sk-toggleable__label-arrow:before {color: black;}#sk-container-id-7 div.sk-toggleable__content {max-height: 0;max-width: 0;overflow: hidden;text-align: left;background-color: #f0f8ff;}#sk-container-id-7 div.sk-toggleable__content pre {margin: 0.2em;color: black;border-radius: 0.25em;background-color: #f0f8ff;}#sk-container-id-7 input.sk-toggleable__control:checked~div.sk-toggleable__content {max-height: 200px;max-width: 100%;overflow: auto;}#sk-container-id-7 input.sk-toggleable__control:checked~label.sk-toggleable__label-arrow:before {content: \"▾\";}#sk-container-id-7 div.sk-estimator input.sk-toggleable__control:checked~label.sk-toggleable__label {background-color: #d4ebff;}#sk-container-id-7 div.sk-label input.sk-toggleable__control:checked~label.sk-toggleable__label {background-color: #d4ebff;}#sk-container-id-7 input.sk-hidden--visually {border: 0;clip: rect(1px 1px 1px 1px);clip: rect(1px, 1px, 1px, 1px);height: 1px;margin: -1px;overflow: hidden;padding: 0;position: absolute;width: 1px;}#sk-container-id-7 div.sk-estimator {font-family: monospace;background-color: #f0f8ff;border: 1px dotted black;border-radius: 0.25em;box-sizing: border-box;margin-bottom: 0.5em;}#sk-container-id-7 div.sk-estimator:hover {background-color: #d4ebff;}#sk-container-id-7 div.sk-parallel-item::after {content: \"\";width: 100%;border-bottom: 1px solid gray;flex-grow: 1;}#sk-container-id-7 div.sk-label:hover label.sk-toggleable__label {background-color: #d4ebff;}#sk-container-id-7 div.sk-serial::before {content: \"\";position: absolute;border-left: 1px solid gray;box-sizing: border-box;top: 0;bottom: 0;left: 50%;z-index: 0;}#sk-container-id-7 div.sk-serial {display: flex;flex-direction: column;align-items: center;background-color: white;padding-right: 0.2em;padding-left: 0.2em;position: relative;}#sk-container-id-7 div.sk-item {position: relative;z-index: 1;}#sk-container-id-7 div.sk-parallel {display: flex;align-items: stretch;justify-content: center;background-color: white;position: relative;}#sk-container-id-7 div.sk-item::before, #sk-container-id-7 div.sk-parallel-item::before {content: \"\";position: absolute;border-left: 1px solid gray;box-sizing: border-box;top: 0;bottom: 0;left: 50%;z-index: -1;}#sk-container-id-7 div.sk-parallel-item {display: flex;flex-direction: column;z-index: 1;position: relative;background-color: white;}#sk-container-id-7 div.sk-parallel-item:first-child::after {align-self: flex-end;width: 50%;}#sk-container-id-7 div.sk-parallel-item:last-child::after {align-self: flex-start;width: 50%;}#sk-container-id-7 div.sk-parallel-item:only-child::after {width: 0;}#sk-container-id-7 div.sk-dashed-wrapped {border: 1px dashed gray;margin: 0 0.4em 0.5em 0.4em;box-sizing: border-box;padding-bottom: 0.4em;background-color: white;}#sk-container-id-7 div.sk-label label {font-family: monospace;font-weight: bold;display: inline-block;line-height: 1.2em;}#sk-container-id-7 div.sk-label-container {text-align: center;}#sk-container-id-7 div.sk-container {/* jupyter's `normalize.less` sets `[hidden] { display: none; }` but bootstrap.min.css set `[hidden] { display: none !important; }` so we also need the `!important` here to be able to override the default hidden behavior on the sphinx rendered scikit-learn.org. See: https://github.com/scikit-learn/scikit-learn/issues/21755 */display: inline-block !important;position: relative;}#sk-container-id-7 div.sk-text-repr-fallback {display: none;}</style><div id=\"sk-container-id-7\" class=\"sk-top-container\"><div class=\"sk-text-repr-fallback\"><pre>Pipeline(steps=[(&#x27;features&#x27;,\n",
              "                 FeatureUnion(transformer_list=[(&#x27;numeric_features&#x27;,\n",
              "                                                 Pipeline(steps=[(&#x27;selector&#x27;,\n",
              "                                                                  FunctionTransformer(func=&lt;function &lt;lambda&gt; at 0x7ff8de4590d0&gt;)),\n",
              "                                                                 (&#x27;std&#x27;,\n",
              "                                                                  MinMaxScaler())])),\n",
              "                                                (&#x27;text1_features&#x27;,\n",
              "                                                 Pipeline(steps=[(&#x27;selector&#x27;,\n",
              "                                                                  FunctionTransformer(func=&lt;function &lt;lambda&gt; at 0x7ff8ce270940&gt;)),\n",
              "                                                                 (&#x27;vec&#x27;,\n",
              "                                                                  TfidfVectorizer())])),\n",
              "                                                (&#x27;text2_features&#x27;,\n",
              "                                                 Pipeline(steps=[(&#x27;selector&#x27;,\n",
              "                                                                  FunctionTransformer(func=&lt;function &lt;lambda&gt; at 0x7ff8de459040&gt;)),\n",
              "                                                                 (&#x27;vec&#x27;,\n",
              "                                                                  TfidfVectorizer())]))])),\n",
              "                (&#x27;clf&#x27;, MultinomialNB())])</pre><b>In a Jupyter environment, please rerun this cell to show the HTML representation or trust the notebook. <br />On GitHub, the HTML representation is unable to render, please try loading this page with nbviewer.org.</b></div><div class=\"sk-container\" hidden><div class=\"sk-item sk-dashed-wrapped\"><div class=\"sk-label-container\"><div class=\"sk-label sk-toggleable\"><input class=\"sk-toggleable__control sk-hidden--visually\" id=\"sk-estimator-id-47\" type=\"checkbox\" ><label for=\"sk-estimator-id-47\" class=\"sk-toggleable__label sk-toggleable__label-arrow\">Pipeline</label><div class=\"sk-toggleable__content\"><pre>Pipeline(steps=[(&#x27;features&#x27;,\n",
              "                 FeatureUnion(transformer_list=[(&#x27;numeric_features&#x27;,\n",
              "                                                 Pipeline(steps=[(&#x27;selector&#x27;,\n",
              "                                                                  FunctionTransformer(func=&lt;function &lt;lambda&gt; at 0x7ff8de4590d0&gt;)),\n",
              "                                                                 (&#x27;std&#x27;,\n",
              "                                                                  MinMaxScaler())])),\n",
              "                                                (&#x27;text1_features&#x27;,\n",
              "                                                 Pipeline(steps=[(&#x27;selector&#x27;,\n",
              "                                                                  FunctionTransformer(func=&lt;function &lt;lambda&gt; at 0x7ff8ce270940&gt;)),\n",
              "                                                                 (&#x27;vec&#x27;,\n",
              "                                                                  TfidfVectorizer())])),\n",
              "                                                (&#x27;text2_features&#x27;,\n",
              "                                                 Pipeline(steps=[(&#x27;selector&#x27;,\n",
              "                                                                  FunctionTransformer(func=&lt;function &lt;lambda&gt; at 0x7ff8de459040&gt;)),\n",
              "                                                                 (&#x27;vec&#x27;,\n",
              "                                                                  TfidfVectorizer())]))])),\n",
              "                (&#x27;clf&#x27;, MultinomialNB())])</pre></div></div></div><div class=\"sk-serial\"><div class=\"sk-item sk-dashed-wrapped\"><div class=\"sk-label-container\"><div class=\"sk-label sk-toggleable\"><input class=\"sk-toggleable__control sk-hidden--visually\" id=\"sk-estimator-id-48\" type=\"checkbox\" ><label for=\"sk-estimator-id-48\" class=\"sk-toggleable__label sk-toggleable__label-arrow\">features: FeatureUnion</label><div class=\"sk-toggleable__content\"><pre>FeatureUnion(transformer_list=[(&#x27;numeric_features&#x27;,\n",
              "                                Pipeline(steps=[(&#x27;selector&#x27;,\n",
              "                                                 FunctionTransformer(func=&lt;function &lt;lambda&gt; at 0x7ff8de4590d0&gt;)),\n",
              "                                                (&#x27;std&#x27;, MinMaxScaler())])),\n",
              "                               (&#x27;text1_features&#x27;,\n",
              "                                Pipeline(steps=[(&#x27;selector&#x27;,\n",
              "                                                 FunctionTransformer(func=&lt;function &lt;lambda&gt; at 0x7ff8ce270940&gt;)),\n",
              "                                                (&#x27;vec&#x27;, TfidfVectorizer())])),\n",
              "                               (&#x27;text2_features&#x27;,\n",
              "                                Pipeline(steps=[(&#x27;selector&#x27;,\n",
              "                                                 FunctionTransformer(func=&lt;function &lt;lambda&gt; at 0x7ff8de459040&gt;)),\n",
              "                                                (&#x27;vec&#x27;, TfidfVectorizer())]))])</pre></div></div></div><div class=\"sk-parallel\"><div class=\"sk-parallel-item\"><div class=\"sk-item\"><div class=\"sk-label-container\"><div class=\"sk-label sk-toggleable\"><label>numeric_features</label></div></div><div class=\"sk-serial\"><div class=\"sk-item\"><div class=\"sk-serial\"><div class=\"sk-item\"><div class=\"sk-estimator sk-toggleable\"><input class=\"sk-toggleable__control sk-hidden--visually\" id=\"sk-estimator-id-49\" type=\"checkbox\" ><label for=\"sk-estimator-id-49\" class=\"sk-toggleable__label sk-toggleable__label-arrow\">FunctionTransformer</label><div class=\"sk-toggleable__content\"><pre>FunctionTransformer(func=&lt;function &lt;lambda&gt; at 0x7ff8de4590d0&gt;)</pre></div></div></div><div class=\"sk-item\"><div class=\"sk-estimator sk-toggleable\"><input class=\"sk-toggleable__control sk-hidden--visually\" id=\"sk-estimator-id-50\" type=\"checkbox\" ><label for=\"sk-estimator-id-50\" class=\"sk-toggleable__label sk-toggleable__label-arrow\">MinMaxScaler</label><div class=\"sk-toggleable__content\"><pre>MinMaxScaler()</pre></div></div></div></div></div></div></div></div><div class=\"sk-parallel-item\"><div class=\"sk-item\"><div class=\"sk-label-container\"><div class=\"sk-label sk-toggleable\"><label>text1_features</label></div></div><div class=\"sk-serial\"><div class=\"sk-item\"><div class=\"sk-serial\"><div class=\"sk-item\"><div class=\"sk-estimator sk-toggleable\"><input class=\"sk-toggleable__control sk-hidden--visually\" id=\"sk-estimator-id-51\" type=\"checkbox\" ><label for=\"sk-estimator-id-51\" class=\"sk-toggleable__label sk-toggleable__label-arrow\">FunctionTransformer</label><div class=\"sk-toggleable__content\"><pre>FunctionTransformer(func=&lt;function &lt;lambda&gt; at 0x7ff8ce270940&gt;)</pre></div></div></div><div class=\"sk-item\"><div class=\"sk-estimator sk-toggleable\"><input class=\"sk-toggleable__control sk-hidden--visually\" id=\"sk-estimator-id-52\" type=\"checkbox\" ><label for=\"sk-estimator-id-52\" class=\"sk-toggleable__label sk-toggleable__label-arrow\">TfidfVectorizer</label><div class=\"sk-toggleable__content\"><pre>TfidfVectorizer()</pre></div></div></div></div></div></div></div></div><div class=\"sk-parallel-item\"><div class=\"sk-item\"><div class=\"sk-label-container\"><div class=\"sk-label sk-toggleable\"><label>text2_features</label></div></div><div class=\"sk-serial\"><div class=\"sk-item\"><div class=\"sk-serial\"><div class=\"sk-item\"><div class=\"sk-estimator sk-toggleable\"><input class=\"sk-toggleable__control sk-hidden--visually\" id=\"sk-estimator-id-53\" type=\"checkbox\" ><label for=\"sk-estimator-id-53\" class=\"sk-toggleable__label sk-toggleable__label-arrow\">FunctionTransformer</label><div class=\"sk-toggleable__content\"><pre>FunctionTransformer(func=&lt;function &lt;lambda&gt; at 0x7ff8de459040&gt;)</pre></div></div></div><div class=\"sk-item\"><div class=\"sk-estimator sk-toggleable\"><input class=\"sk-toggleable__control sk-hidden--visually\" id=\"sk-estimator-id-54\" type=\"checkbox\" ><label for=\"sk-estimator-id-54\" class=\"sk-toggleable__label sk-toggleable__label-arrow\">TfidfVectorizer</label><div class=\"sk-toggleable__content\"><pre>TfidfVectorizer()</pre></div></div></div></div></div></div></div></div></div></div><div class=\"sk-item\"><div class=\"sk-estimator sk-toggleable\"><input class=\"sk-toggleable__control sk-hidden--visually\" id=\"sk-estimator-id-55\" type=\"checkbox\" ><label for=\"sk-estimator-id-55\" class=\"sk-toggleable__label sk-toggleable__label-arrow\">MultinomialNB</label><div class=\"sk-toggleable__content\"><pre>MultinomialNB()</pre></div></div></div></div></div></div></div>"
            ]
          },
          "metadata": {},
          "execution_count": 111
        }
      ]
    },
    {
      "cell_type": "code",
      "source": [
        "y_pred=pipeline.predict(x_test)"
      ],
      "metadata": {
        "id": "2qNt-F1i03y_"
      },
      "execution_count": 117,
      "outputs": []
    },
    {
      "cell_type": "code",
      "source": [
        "print(accuracy_score(y_test,y_pred))\n",
        "print(classification_report(y_test,y_pred))"
      ],
      "metadata": {
        "colab": {
          "base_uri": "https://localhost:8080/"
        },
        "id": "EOJIiNsH06yT",
        "outputId": "22ccb4e1-5098-44c9-a68f-87981afbe131"
      },
      "execution_count": 118,
      "outputs": [
        {
          "output_type": "stream",
          "name": "stdout",
          "text": [
            "0.8288996227140557\n",
            "              precision    recall  f1-score   support\n",
            "\n",
            "           0       0.75      0.00      0.00      4736\n",
            "           1       0.83      1.00      0.91     34491\n",
            "           2       0.00      0.00      0.00      2386\n",
            "\n",
            "    accuracy                           0.83     41613\n",
            "   macro avg       0.53      0.33      0.30     41613\n",
            "weighted avg       0.77      0.83      0.75     41613\n",
            "\n"
          ]
        }
      ]
    },
    {
      "cell_type": "code",
      "source": [
        "y_pred=pipeline.predict_proba(x_test)\n",
        "roc_auc_score(y_test,y_pred,multi_class='ovo')"
      ],
      "metadata": {
        "colab": {
          "base_uri": "https://localhost:8080/"
        },
        "id": "vzy5Qgbq1ClM",
        "outputId": "bf2c8b37-efb7-45d8-bce2-b2bf25e6e004"
      },
      "execution_count": 119,
      "outputs": [
        {
          "output_type": "execute_result",
          "data": {
            "text/plain": [
              "0.6394491999868472"
            ]
          },
          "metadata": {},
          "execution_count": 119
        }
      ]
    },
    {
      "cell_type": "markdown",
      "source": [
        "Using tfidfvectorizer on text columns after trained the model got 100% accuracy on LogisticRegression Model.\n",
        "Good accuracy for many simple data sets and it performs well when the dataset is linearly separable. Since the labeling done manually based on simple condition performed well. "
      ],
      "metadata": {
        "id": "otnnKVgkNUOe"
      }
    },
    {
      "cell_type": "markdown",
      "source": [
        "***Now testing the dataset using bodylength and Titlelength as suggested.***"
      ],
      "metadata": {
        "id": "3WuPWk5DOZdO"
      }
    },
    {
      "cell_type": "code",
      "source": [
        "df=pd.read_csv(\"newposts.csv\")\n",
        "df.head()"
      ],
      "metadata": {
        "colab": {
          "base_uri": "https://localhost:8080/",
          "height": 206
        },
        "id": "2RWe9VDG2Bd7",
        "outputId": "71da5c6e-57a7-4957-9404-b3ec84d0ffff"
      },
      "execution_count": 126,
      "outputs": [
        {
          "output_type": "execute_result",
          "data": {
            "text/plain": [
              "   AnswerCount                                               Body  \\\n",
              "0          5.0  hear subatomic particle have property call spi...   \n",
              "1          4.0  explain string theory non physicist m speciall...   \n",
              "2          3.0  question post different forum think maybe well...   \n",
              "3          6.0  main problem need solve prove laplace s determ...   \n",
              "4          6.0  hamilton s principle state dynamic system foll...   \n",
              "\n",
              "   CommentCount  FavoriteCount  Score  \\\n",
              "0             5           27.0     76   \n",
              "1             4            8.0     29   \n",
              "2             5           13.0     35   \n",
              "3             5            5.0     10   \n",
              "4             2           32.0     48   \n",
              "\n",
              "                                       Title  ViewCount  Quality  \n",
              "0             spin relate subatomic particle    13803.0        0  \n",
              "1           simple explanation string theory     2641.0        0  \n",
              "2  lie theory representation particle physic     2412.0        0  \n",
              "3                       determinism possible     2033.0        0  \n",
              "4                       hamilton s principle     9277.0        0  "
            ],
            "text/html": [
              "\n",
              "  <div id=\"df-09cd2da8-2ab1-4d77-9c3c-729e5fce4974\">\n",
              "    <div class=\"colab-df-container\">\n",
              "      <div>\n",
              "<style scoped>\n",
              "    .dataframe tbody tr th:only-of-type {\n",
              "        vertical-align: middle;\n",
              "    }\n",
              "\n",
              "    .dataframe tbody tr th {\n",
              "        vertical-align: top;\n",
              "    }\n",
              "\n",
              "    .dataframe thead th {\n",
              "        text-align: right;\n",
              "    }\n",
              "</style>\n",
              "<table border=\"1\" class=\"dataframe\">\n",
              "  <thead>\n",
              "    <tr style=\"text-align: right;\">\n",
              "      <th></th>\n",
              "      <th>AnswerCount</th>\n",
              "      <th>Body</th>\n",
              "      <th>CommentCount</th>\n",
              "      <th>FavoriteCount</th>\n",
              "      <th>Score</th>\n",
              "      <th>Title</th>\n",
              "      <th>ViewCount</th>\n",
              "      <th>Quality</th>\n",
              "    </tr>\n",
              "  </thead>\n",
              "  <tbody>\n",
              "    <tr>\n",
              "      <th>0</th>\n",
              "      <td>5.0</td>\n",
              "      <td>hear subatomic particle have property call spi...</td>\n",
              "      <td>5</td>\n",
              "      <td>27.0</td>\n",
              "      <td>76</td>\n",
              "      <td>spin relate subatomic particle</td>\n",
              "      <td>13803.0</td>\n",
              "      <td>0</td>\n",
              "    </tr>\n",
              "    <tr>\n",
              "      <th>1</th>\n",
              "      <td>4.0</td>\n",
              "      <td>explain string theory non physicist m speciall...</td>\n",
              "      <td>4</td>\n",
              "      <td>8.0</td>\n",
              "      <td>29</td>\n",
              "      <td>simple explanation string theory</td>\n",
              "      <td>2641.0</td>\n",
              "      <td>0</td>\n",
              "    </tr>\n",
              "    <tr>\n",
              "      <th>2</th>\n",
              "      <td>3.0</td>\n",
              "      <td>question post different forum think maybe well...</td>\n",
              "      <td>5</td>\n",
              "      <td>13.0</td>\n",
              "      <td>35</td>\n",
              "      <td>lie theory representation particle physic</td>\n",
              "      <td>2412.0</td>\n",
              "      <td>0</td>\n",
              "    </tr>\n",
              "    <tr>\n",
              "      <th>3</th>\n",
              "      <td>6.0</td>\n",
              "      <td>main problem need solve prove laplace s determ...</td>\n",
              "      <td>5</td>\n",
              "      <td>5.0</td>\n",
              "      <td>10</td>\n",
              "      <td>determinism possible</td>\n",
              "      <td>2033.0</td>\n",
              "      <td>0</td>\n",
              "    </tr>\n",
              "    <tr>\n",
              "      <th>4</th>\n",
              "      <td>6.0</td>\n",
              "      <td>hamilton s principle state dynamic system foll...</td>\n",
              "      <td>2</td>\n",
              "      <td>32.0</td>\n",
              "      <td>48</td>\n",
              "      <td>hamilton s principle</td>\n",
              "      <td>9277.0</td>\n",
              "      <td>0</td>\n",
              "    </tr>\n",
              "  </tbody>\n",
              "</table>\n",
              "</div>\n",
              "      <button class=\"colab-df-convert\" onclick=\"convertToInteractive('df-09cd2da8-2ab1-4d77-9c3c-729e5fce4974')\"\n",
              "              title=\"Convert this dataframe to an interactive table.\"\n",
              "              style=\"display:none;\">\n",
              "        \n",
              "  <svg xmlns=\"http://www.w3.org/2000/svg\" height=\"24px\"viewBox=\"0 0 24 24\"\n",
              "       width=\"24px\">\n",
              "    <path d=\"M0 0h24v24H0V0z\" fill=\"none\"/>\n",
              "    <path d=\"M18.56 5.44l.94 2.06.94-2.06 2.06-.94-2.06-.94-.94-2.06-.94 2.06-2.06.94zm-11 1L8.5 8.5l.94-2.06 2.06-.94-2.06-.94L8.5 2.5l-.94 2.06-2.06.94zm10 10l.94 2.06.94-2.06 2.06-.94-2.06-.94-.94-2.06-.94 2.06-2.06.94z\"/><path d=\"M17.41 7.96l-1.37-1.37c-.4-.4-.92-.59-1.43-.59-.52 0-1.04.2-1.43.59L10.3 9.45l-7.72 7.72c-.78.78-.78 2.05 0 2.83L4 21.41c.39.39.9.59 1.41.59.51 0 1.02-.2 1.41-.59l7.78-7.78 2.81-2.81c.8-.78.8-2.07 0-2.86zM5.41 20L4 18.59l7.72-7.72 1.47 1.35L5.41 20z\"/>\n",
              "  </svg>\n",
              "      </button>\n",
              "      \n",
              "  <style>\n",
              "    .colab-df-container {\n",
              "      display:flex;\n",
              "      flex-wrap:wrap;\n",
              "      gap: 12px;\n",
              "    }\n",
              "\n",
              "    .colab-df-convert {\n",
              "      background-color: #E8F0FE;\n",
              "      border: none;\n",
              "      border-radius: 50%;\n",
              "      cursor: pointer;\n",
              "      display: none;\n",
              "      fill: #1967D2;\n",
              "      height: 32px;\n",
              "      padding: 0 0 0 0;\n",
              "      width: 32px;\n",
              "    }\n",
              "\n",
              "    .colab-df-convert:hover {\n",
              "      background-color: #E2EBFA;\n",
              "      box-shadow: 0px 1px 2px rgba(60, 64, 67, 0.3), 0px 1px 3px 1px rgba(60, 64, 67, 0.15);\n",
              "      fill: #174EA6;\n",
              "    }\n",
              "\n",
              "    [theme=dark] .colab-df-convert {\n",
              "      background-color: #3B4455;\n",
              "      fill: #D2E3FC;\n",
              "    }\n",
              "\n",
              "    [theme=dark] .colab-df-convert:hover {\n",
              "      background-color: #434B5C;\n",
              "      box-shadow: 0px 1px 3px 1px rgba(0, 0, 0, 0.15);\n",
              "      filter: drop-shadow(0px 1px 2px rgba(0, 0, 0, 0.3));\n",
              "      fill: #FFFFFF;\n",
              "    }\n",
              "  </style>\n",
              "\n",
              "      <script>\n",
              "        const buttonEl =\n",
              "          document.querySelector('#df-09cd2da8-2ab1-4d77-9c3c-729e5fce4974 button.colab-df-convert');\n",
              "        buttonEl.style.display =\n",
              "          google.colab.kernel.accessAllowed ? 'block' : 'none';\n",
              "\n",
              "        async function convertToInteractive(key) {\n",
              "          const element = document.querySelector('#df-09cd2da8-2ab1-4d77-9c3c-729e5fce4974');\n",
              "          const dataTable =\n",
              "            await google.colab.kernel.invokeFunction('convertToInteractive',\n",
              "                                                     [key], {});\n",
              "          if (!dataTable) return;\n",
              "\n",
              "          const docLinkHtml = 'Like what you see? Visit the ' +\n",
              "            '<a target=\"_blank\" href=https://colab.research.google.com/notebooks/data_table.ipynb>data table notebook</a>'\n",
              "            + ' to learn more about interactive tables.';\n",
              "          element.innerHTML = '';\n",
              "          dataTable['output_type'] = 'display_data';\n",
              "          await google.colab.output.renderOutput(dataTable, element);\n",
              "          const docLink = document.createElement('div');\n",
              "          docLink.innerHTML = docLinkHtml;\n",
              "          element.appendChild(docLink);\n",
              "        }\n",
              "      </script>\n",
              "    </div>\n",
              "  </div>\n",
              "  "
            ]
          },
          "metadata": {},
          "execution_count": 126
        }
      ]
    },
    {
      "cell_type": "code",
      "source": [
        "def length(text):\n",
        "  a=len(text)\n",
        "  return a"
      ],
      "metadata": {
        "id": "P7XgndQ22F8g"
      },
      "execution_count": 128,
      "outputs": []
    },
    {
      "cell_type": "code",
      "source": [
        "df[\"Bodylength\"]=df[\"Body\"].apply(length)\n",
        "df.head()"
      ],
      "metadata": {
        "colab": {
          "base_uri": "https://localhost:8080/",
          "height": 206
        },
        "id": "rV0QqONE2vUB",
        "outputId": "b395cbc1-5a3d-4d8a-94be-3788b63e596b"
      },
      "execution_count": 130,
      "outputs": [
        {
          "output_type": "execute_result",
          "data": {
            "text/plain": [
              "   AnswerCount                                               Body  \\\n",
              "0          5.0  hear subatomic particle have property call spi...   \n",
              "1          4.0  explain string theory non physicist m speciall...   \n",
              "2          3.0  question post different forum think maybe well...   \n",
              "3          6.0  main problem need solve prove laplace s determ...   \n",
              "4          6.0  hamilton s principle state dynamic system foll...   \n",
              "\n",
              "   CommentCount  FavoriteCount  Score  \\\n",
              "0             5           27.0     76   \n",
              "1             4            8.0     29   \n",
              "2             5           13.0     35   \n",
              "3             5            5.0     10   \n",
              "4             2           32.0     48   \n",
              "\n",
              "                                       Title  ViewCount  Quality  Bodylength  \n",
              "0             spin relate subatomic particle    13803.0        0         139  \n",
              "1           simple explanation string theory     2641.0        0          92  \n",
              "2  lie theory representation particle physic     2412.0        0         379  \n",
              "3                       determinism possible     2033.0        0          90  \n",
              "4                       hamilton s principle     9277.0        0         154  "
            ],
            "text/html": [
              "\n",
              "  <div id=\"df-e1c590ca-ef24-497b-be7e-30603761bd01\">\n",
              "    <div class=\"colab-df-container\">\n",
              "      <div>\n",
              "<style scoped>\n",
              "    .dataframe tbody tr th:only-of-type {\n",
              "        vertical-align: middle;\n",
              "    }\n",
              "\n",
              "    .dataframe tbody tr th {\n",
              "        vertical-align: top;\n",
              "    }\n",
              "\n",
              "    .dataframe thead th {\n",
              "        text-align: right;\n",
              "    }\n",
              "</style>\n",
              "<table border=\"1\" class=\"dataframe\">\n",
              "  <thead>\n",
              "    <tr style=\"text-align: right;\">\n",
              "      <th></th>\n",
              "      <th>AnswerCount</th>\n",
              "      <th>Body</th>\n",
              "      <th>CommentCount</th>\n",
              "      <th>FavoriteCount</th>\n",
              "      <th>Score</th>\n",
              "      <th>Title</th>\n",
              "      <th>ViewCount</th>\n",
              "      <th>Quality</th>\n",
              "      <th>Bodylength</th>\n",
              "    </tr>\n",
              "  </thead>\n",
              "  <tbody>\n",
              "    <tr>\n",
              "      <th>0</th>\n",
              "      <td>5.0</td>\n",
              "      <td>hear subatomic particle have property call spi...</td>\n",
              "      <td>5</td>\n",
              "      <td>27.0</td>\n",
              "      <td>76</td>\n",
              "      <td>spin relate subatomic particle</td>\n",
              "      <td>13803.0</td>\n",
              "      <td>0</td>\n",
              "      <td>139</td>\n",
              "    </tr>\n",
              "    <tr>\n",
              "      <th>1</th>\n",
              "      <td>4.0</td>\n",
              "      <td>explain string theory non physicist m speciall...</td>\n",
              "      <td>4</td>\n",
              "      <td>8.0</td>\n",
              "      <td>29</td>\n",
              "      <td>simple explanation string theory</td>\n",
              "      <td>2641.0</td>\n",
              "      <td>0</td>\n",
              "      <td>92</td>\n",
              "    </tr>\n",
              "    <tr>\n",
              "      <th>2</th>\n",
              "      <td>3.0</td>\n",
              "      <td>question post different forum think maybe well...</td>\n",
              "      <td>5</td>\n",
              "      <td>13.0</td>\n",
              "      <td>35</td>\n",
              "      <td>lie theory representation particle physic</td>\n",
              "      <td>2412.0</td>\n",
              "      <td>0</td>\n",
              "      <td>379</td>\n",
              "    </tr>\n",
              "    <tr>\n",
              "      <th>3</th>\n",
              "      <td>6.0</td>\n",
              "      <td>main problem need solve prove laplace s determ...</td>\n",
              "      <td>5</td>\n",
              "      <td>5.0</td>\n",
              "      <td>10</td>\n",
              "      <td>determinism possible</td>\n",
              "      <td>2033.0</td>\n",
              "      <td>0</td>\n",
              "      <td>90</td>\n",
              "    </tr>\n",
              "    <tr>\n",
              "      <th>4</th>\n",
              "      <td>6.0</td>\n",
              "      <td>hamilton s principle state dynamic system foll...</td>\n",
              "      <td>2</td>\n",
              "      <td>32.0</td>\n",
              "      <td>48</td>\n",
              "      <td>hamilton s principle</td>\n",
              "      <td>9277.0</td>\n",
              "      <td>0</td>\n",
              "      <td>154</td>\n",
              "    </tr>\n",
              "  </tbody>\n",
              "</table>\n",
              "</div>\n",
              "      <button class=\"colab-df-convert\" onclick=\"convertToInteractive('df-e1c590ca-ef24-497b-be7e-30603761bd01')\"\n",
              "              title=\"Convert this dataframe to an interactive table.\"\n",
              "              style=\"display:none;\">\n",
              "        \n",
              "  <svg xmlns=\"http://www.w3.org/2000/svg\" height=\"24px\"viewBox=\"0 0 24 24\"\n",
              "       width=\"24px\">\n",
              "    <path d=\"M0 0h24v24H0V0z\" fill=\"none\"/>\n",
              "    <path d=\"M18.56 5.44l.94 2.06.94-2.06 2.06-.94-2.06-.94-.94-2.06-.94 2.06-2.06.94zm-11 1L8.5 8.5l.94-2.06 2.06-.94-2.06-.94L8.5 2.5l-.94 2.06-2.06.94zm10 10l.94 2.06.94-2.06 2.06-.94-2.06-.94-.94-2.06-.94 2.06-2.06.94z\"/><path d=\"M17.41 7.96l-1.37-1.37c-.4-.4-.92-.59-1.43-.59-.52 0-1.04.2-1.43.59L10.3 9.45l-7.72 7.72c-.78.78-.78 2.05 0 2.83L4 21.41c.39.39.9.59 1.41.59.51 0 1.02-.2 1.41-.59l7.78-7.78 2.81-2.81c.8-.78.8-2.07 0-2.86zM5.41 20L4 18.59l7.72-7.72 1.47 1.35L5.41 20z\"/>\n",
              "  </svg>\n",
              "      </button>\n",
              "      \n",
              "  <style>\n",
              "    .colab-df-container {\n",
              "      display:flex;\n",
              "      flex-wrap:wrap;\n",
              "      gap: 12px;\n",
              "    }\n",
              "\n",
              "    .colab-df-convert {\n",
              "      background-color: #E8F0FE;\n",
              "      border: none;\n",
              "      border-radius: 50%;\n",
              "      cursor: pointer;\n",
              "      display: none;\n",
              "      fill: #1967D2;\n",
              "      height: 32px;\n",
              "      padding: 0 0 0 0;\n",
              "      width: 32px;\n",
              "    }\n",
              "\n",
              "    .colab-df-convert:hover {\n",
              "      background-color: #E2EBFA;\n",
              "      box-shadow: 0px 1px 2px rgba(60, 64, 67, 0.3), 0px 1px 3px 1px rgba(60, 64, 67, 0.15);\n",
              "      fill: #174EA6;\n",
              "    }\n",
              "\n",
              "    [theme=dark] .colab-df-convert {\n",
              "      background-color: #3B4455;\n",
              "      fill: #D2E3FC;\n",
              "    }\n",
              "\n",
              "    [theme=dark] .colab-df-convert:hover {\n",
              "      background-color: #434B5C;\n",
              "      box-shadow: 0px 1px 3px 1px rgba(0, 0, 0, 0.15);\n",
              "      filter: drop-shadow(0px 1px 2px rgba(0, 0, 0, 0.3));\n",
              "      fill: #FFFFFF;\n",
              "    }\n",
              "  </style>\n",
              "\n",
              "      <script>\n",
              "        const buttonEl =\n",
              "          document.querySelector('#df-e1c590ca-ef24-497b-be7e-30603761bd01 button.colab-df-convert');\n",
              "        buttonEl.style.display =\n",
              "          google.colab.kernel.accessAllowed ? 'block' : 'none';\n",
              "\n",
              "        async function convertToInteractive(key) {\n",
              "          const element = document.querySelector('#df-e1c590ca-ef24-497b-be7e-30603761bd01');\n",
              "          const dataTable =\n",
              "            await google.colab.kernel.invokeFunction('convertToInteractive',\n",
              "                                                     [key], {});\n",
              "          if (!dataTable) return;\n",
              "\n",
              "          const docLinkHtml = 'Like what you see? Visit the ' +\n",
              "            '<a target=\"_blank\" href=https://colab.research.google.com/notebooks/data_table.ipynb>data table notebook</a>'\n",
              "            + ' to learn more about interactive tables.';\n",
              "          element.innerHTML = '';\n",
              "          dataTable['output_type'] = 'display_data';\n",
              "          await google.colab.output.renderOutput(dataTable, element);\n",
              "          const docLink = document.createElement('div');\n",
              "          docLink.innerHTML = docLinkHtml;\n",
              "          element.appendChild(docLink);\n",
              "        }\n",
              "      </script>\n",
              "    </div>\n",
              "  </div>\n",
              "  "
            ]
          },
          "metadata": {},
          "execution_count": 130
        }
      ]
    },
    {
      "cell_type": "code",
      "source": [
        "df[\"Title\"]=df[\"Title\"].astype(\"str\")\n",
        "df[\"Titlelength\"]=df[\"Title\"].apply(length)"
      ],
      "metadata": {
        "id": "RugEBk2o29YN"
      },
      "execution_count": 137,
      "outputs": []
    },
    {
      "cell_type": "code",
      "source": [
        "df.head()"
      ],
      "metadata": {
        "colab": {
          "base_uri": "https://localhost:8080/",
          "height": 206
        },
        "id": "LKG_ALLo3xbZ",
        "outputId": "e1d0ecc0-b205-4485-b76c-b769469a7560"
      },
      "execution_count": 138,
      "outputs": [
        {
          "output_type": "execute_result",
          "data": {
            "text/plain": [
              "   AnswerCount                                               Body  \\\n",
              "0          5.0  hear subatomic particle have property call spi...   \n",
              "1          4.0  explain string theory non physicist m speciall...   \n",
              "2          3.0  question post different forum think maybe well...   \n",
              "3          6.0  main problem need solve prove laplace s determ...   \n",
              "4          6.0  hamilton s principle state dynamic system foll...   \n",
              "\n",
              "   CommentCount  FavoriteCount  Score  \\\n",
              "0             5           27.0     76   \n",
              "1             4            8.0     29   \n",
              "2             5           13.0     35   \n",
              "3             5            5.0     10   \n",
              "4             2           32.0     48   \n",
              "\n",
              "                                       Title  ViewCount  Quality  Bodylength  \\\n",
              "0             spin relate subatomic particle    13803.0        0         139   \n",
              "1           simple explanation string theory     2641.0        0          92   \n",
              "2  lie theory representation particle physic     2412.0        0         379   \n",
              "3                       determinism possible     2033.0        0          90   \n",
              "4                       hamilton s principle     9277.0        0         154   \n",
              "\n",
              "   Titlelength  \n",
              "0           30  \n",
              "1           32  \n",
              "2           41  \n",
              "3           20  \n",
              "4           20  "
            ],
            "text/html": [
              "\n",
              "  <div id=\"df-99faccc5-1bfa-487d-91da-15250d7dcd07\">\n",
              "    <div class=\"colab-df-container\">\n",
              "      <div>\n",
              "<style scoped>\n",
              "    .dataframe tbody tr th:only-of-type {\n",
              "        vertical-align: middle;\n",
              "    }\n",
              "\n",
              "    .dataframe tbody tr th {\n",
              "        vertical-align: top;\n",
              "    }\n",
              "\n",
              "    .dataframe thead th {\n",
              "        text-align: right;\n",
              "    }\n",
              "</style>\n",
              "<table border=\"1\" class=\"dataframe\">\n",
              "  <thead>\n",
              "    <tr style=\"text-align: right;\">\n",
              "      <th></th>\n",
              "      <th>AnswerCount</th>\n",
              "      <th>Body</th>\n",
              "      <th>CommentCount</th>\n",
              "      <th>FavoriteCount</th>\n",
              "      <th>Score</th>\n",
              "      <th>Title</th>\n",
              "      <th>ViewCount</th>\n",
              "      <th>Quality</th>\n",
              "      <th>Bodylength</th>\n",
              "      <th>Titlelength</th>\n",
              "    </tr>\n",
              "  </thead>\n",
              "  <tbody>\n",
              "    <tr>\n",
              "      <th>0</th>\n",
              "      <td>5.0</td>\n",
              "      <td>hear subatomic particle have property call spi...</td>\n",
              "      <td>5</td>\n",
              "      <td>27.0</td>\n",
              "      <td>76</td>\n",
              "      <td>spin relate subatomic particle</td>\n",
              "      <td>13803.0</td>\n",
              "      <td>0</td>\n",
              "      <td>139</td>\n",
              "      <td>30</td>\n",
              "    </tr>\n",
              "    <tr>\n",
              "      <th>1</th>\n",
              "      <td>4.0</td>\n",
              "      <td>explain string theory non physicist m speciall...</td>\n",
              "      <td>4</td>\n",
              "      <td>8.0</td>\n",
              "      <td>29</td>\n",
              "      <td>simple explanation string theory</td>\n",
              "      <td>2641.0</td>\n",
              "      <td>0</td>\n",
              "      <td>92</td>\n",
              "      <td>32</td>\n",
              "    </tr>\n",
              "    <tr>\n",
              "      <th>2</th>\n",
              "      <td>3.0</td>\n",
              "      <td>question post different forum think maybe well...</td>\n",
              "      <td>5</td>\n",
              "      <td>13.0</td>\n",
              "      <td>35</td>\n",
              "      <td>lie theory representation particle physic</td>\n",
              "      <td>2412.0</td>\n",
              "      <td>0</td>\n",
              "      <td>379</td>\n",
              "      <td>41</td>\n",
              "    </tr>\n",
              "    <tr>\n",
              "      <th>3</th>\n",
              "      <td>6.0</td>\n",
              "      <td>main problem need solve prove laplace s determ...</td>\n",
              "      <td>5</td>\n",
              "      <td>5.0</td>\n",
              "      <td>10</td>\n",
              "      <td>determinism possible</td>\n",
              "      <td>2033.0</td>\n",
              "      <td>0</td>\n",
              "      <td>90</td>\n",
              "      <td>20</td>\n",
              "    </tr>\n",
              "    <tr>\n",
              "      <th>4</th>\n",
              "      <td>6.0</td>\n",
              "      <td>hamilton s principle state dynamic system foll...</td>\n",
              "      <td>2</td>\n",
              "      <td>32.0</td>\n",
              "      <td>48</td>\n",
              "      <td>hamilton s principle</td>\n",
              "      <td>9277.0</td>\n",
              "      <td>0</td>\n",
              "      <td>154</td>\n",
              "      <td>20</td>\n",
              "    </tr>\n",
              "  </tbody>\n",
              "</table>\n",
              "</div>\n",
              "      <button class=\"colab-df-convert\" onclick=\"convertToInteractive('df-99faccc5-1bfa-487d-91da-15250d7dcd07')\"\n",
              "              title=\"Convert this dataframe to an interactive table.\"\n",
              "              style=\"display:none;\">\n",
              "        \n",
              "  <svg xmlns=\"http://www.w3.org/2000/svg\" height=\"24px\"viewBox=\"0 0 24 24\"\n",
              "       width=\"24px\">\n",
              "    <path d=\"M0 0h24v24H0V0z\" fill=\"none\"/>\n",
              "    <path d=\"M18.56 5.44l.94 2.06.94-2.06 2.06-.94-2.06-.94-.94-2.06-.94 2.06-2.06.94zm-11 1L8.5 8.5l.94-2.06 2.06-.94-2.06-.94L8.5 2.5l-.94 2.06-2.06.94zm10 10l.94 2.06.94-2.06 2.06-.94-2.06-.94-.94-2.06-.94 2.06-2.06.94z\"/><path d=\"M17.41 7.96l-1.37-1.37c-.4-.4-.92-.59-1.43-.59-.52 0-1.04.2-1.43.59L10.3 9.45l-7.72 7.72c-.78.78-.78 2.05 0 2.83L4 21.41c.39.39.9.59 1.41.59.51 0 1.02-.2 1.41-.59l7.78-7.78 2.81-2.81c.8-.78.8-2.07 0-2.86zM5.41 20L4 18.59l7.72-7.72 1.47 1.35L5.41 20z\"/>\n",
              "  </svg>\n",
              "      </button>\n",
              "      \n",
              "  <style>\n",
              "    .colab-df-container {\n",
              "      display:flex;\n",
              "      flex-wrap:wrap;\n",
              "      gap: 12px;\n",
              "    }\n",
              "\n",
              "    .colab-df-convert {\n",
              "      background-color: #E8F0FE;\n",
              "      border: none;\n",
              "      border-radius: 50%;\n",
              "      cursor: pointer;\n",
              "      display: none;\n",
              "      fill: #1967D2;\n",
              "      height: 32px;\n",
              "      padding: 0 0 0 0;\n",
              "      width: 32px;\n",
              "    }\n",
              "\n",
              "    .colab-df-convert:hover {\n",
              "      background-color: #E2EBFA;\n",
              "      box-shadow: 0px 1px 2px rgba(60, 64, 67, 0.3), 0px 1px 3px 1px rgba(60, 64, 67, 0.15);\n",
              "      fill: #174EA6;\n",
              "    }\n",
              "\n",
              "    [theme=dark] .colab-df-convert {\n",
              "      background-color: #3B4455;\n",
              "      fill: #D2E3FC;\n",
              "    }\n",
              "\n",
              "    [theme=dark] .colab-df-convert:hover {\n",
              "      background-color: #434B5C;\n",
              "      box-shadow: 0px 1px 3px 1px rgba(0, 0, 0, 0.15);\n",
              "      filter: drop-shadow(0px 1px 2px rgba(0, 0, 0, 0.3));\n",
              "      fill: #FFFFFF;\n",
              "    }\n",
              "  </style>\n",
              "\n",
              "      <script>\n",
              "        const buttonEl =\n",
              "          document.querySelector('#df-99faccc5-1bfa-487d-91da-15250d7dcd07 button.colab-df-convert');\n",
              "        buttonEl.style.display =\n",
              "          google.colab.kernel.accessAllowed ? 'block' : 'none';\n",
              "\n",
              "        async function convertToInteractive(key) {\n",
              "          const element = document.querySelector('#df-99faccc5-1bfa-487d-91da-15250d7dcd07');\n",
              "          const dataTable =\n",
              "            await google.colab.kernel.invokeFunction('convertToInteractive',\n",
              "                                                     [key], {});\n",
              "          if (!dataTable) return;\n",
              "\n",
              "          const docLinkHtml = 'Like what you see? Visit the ' +\n",
              "            '<a target=\"_blank\" href=https://colab.research.google.com/notebooks/data_table.ipynb>data table notebook</a>'\n",
              "            + ' to learn more about interactive tables.';\n",
              "          element.innerHTML = '';\n",
              "          dataTable['output_type'] = 'display_data';\n",
              "          await google.colab.output.renderOutput(dataTable, element);\n",
              "          const docLink = document.createElement('div');\n",
              "          docLink.innerHTML = docLinkHtml;\n",
              "          element.appendChild(docLink);\n",
              "        }\n",
              "      </script>\n",
              "    </div>\n",
              "  </div>\n",
              "  "
            ]
          },
          "metadata": {},
          "execution_count": 138
        }
      ]
    },
    {
      "cell_type": "code",
      "source": [
        "x=df[['AnswerCount','CommentCount','FavoriteCount','Score','ViewCount','Bodylength','Titlelength']]\n",
        "y=df[\"Quality\"]"
      ],
      "metadata": {
        "id": "SYZS2OYi34S1"
      },
      "execution_count": 153,
      "outputs": []
    },
    {
      "cell_type": "code",
      "source": [
        "from sklearn.model_selection import train_test_split\n",
        "x_train,x_test,y_train,y_test=train_test_split(x,y,test_size=0.30)"
      ],
      "metadata": {
        "id": "9Cj_oLrZ3_4f"
      },
      "execution_count": 156,
      "outputs": []
    },
    {
      "cell_type": "code",
      "source": [
        "from collections import Counter \n",
        "from imblearn.under_sampling import RandomUnderSampler\n",
        "us=RandomUnderSampler()\n",
        "x_train_,y_train_=us.fit_resample(x_train,y_train)"
      ],
      "metadata": {
        "id": "CG-dZxTL420H"
      },
      "execution_count": 169,
      "outputs": []
    },
    {
      "cell_type": "code",
      "source": [
        "Counter(y_train)"
      ],
      "metadata": {
        "colab": {
          "base_uri": "https://localhost:8080/"
        },
        "id": "S4IKXiGE5SVE",
        "outputId": "325ab1c5-de2c-4aa2-8ba2-d087df959d52"
      },
      "execution_count": 170,
      "outputs": [
        {
          "output_type": "execute_result",
          "data": {
            "text/plain": [
              "Counter({1: 80498, 0: 11037, 2: 5562})"
            ]
          },
          "metadata": {},
          "execution_count": 170
        }
      ]
    },
    {
      "cell_type": "code",
      "source": [
        "Counter(y_train_)"
      ],
      "metadata": {
        "colab": {
          "base_uri": "https://localhost:8080/"
        },
        "id": "OZLYQ1eS5NZQ",
        "outputId": "7f2c6f26-3eb1-437c-ac5b-766b8448d9fb"
      },
      "execution_count": 171,
      "outputs": [
        {
          "output_type": "execute_result",
          "data": {
            "text/plain": [
              "Counter({0: 5562, 1: 5562, 2: 5562})"
            ]
          },
          "metadata": {},
          "execution_count": 171
        }
      ]
    },
    {
      "cell_type": "code",
      "source": [
        "from sklearn.preprocessing import StandardScaler\n",
        "from sklearn.pipeline import Pipeline\n",
        "from sklearn.decomposition import PCA\n",
        "from sklearn.model_selection import StratifiedKFold\n",
        "from sklearn.model_selection import train_test_split, GridSearchCV\n",
        "from sklearn.linear_model import LogisticRegression\n",
        "from sklearn.neighbors import KNeighborsClassifier\n",
        "from sklearn.ensemble import RandomForestClassifier\n",
        "from sklearn.tree import DecisionTreeClassifier\n",
        "from xgboost import XGBClassifier\n",
        "from sklearn import svm"
      ],
      "metadata": {
        "id": "_eo9wLeW4bZ4"
      },
      "execution_count": 172,
      "outputs": []
    },
    {
      "cell_type": "code",
      "source": [
        "pipe_lr = Pipeline([('pca',PCA()),\n",
        "                    ('scl', StandardScaler()),\n",
        "                    ('LR', LogisticRegression(random_state=2022))])\n",
        "pipe_rf = Pipeline([('pca',PCA()),\n",
        "                    ('scl', StandardScaler()),\n",
        "                    ('RF',RandomForestClassifier(random_state=2022))])\n",
        "pipe_svm = Pipeline([('pca',PCA()),\n",
        "                     ('scl', StandardScaler()),\n",
        "                     ('SVM', svm.SVC(random_state=2022,probability=True))])\n",
        "pipe_xgb = Pipeline([('pca',PCA()),\n",
        "                     ('scl', StandardScaler()),\n",
        "                     ('XGB', XGBClassifier(random_state=2022))])"
      ],
      "metadata": {
        "id": "cGZwxvmD4pma"
      },
      "execution_count": 183,
      "outputs": []
    },
    {
      "cell_type": "code",
      "source": [
        "lr_param_grid = [{'LR__penalty': ['l2'],'LR__C':[2.0]}]\n",
        "rf_param_grid = [{'RF__criterion':['gini'],'RF__n_estimators':[10]}]\n",
        "svm_param_grid = [{'SVM__kernel': ['linear', 'rbf'], 'SVM__C':[6]}]\n",
        "xgb_param_grid = [{'XGB__learning_rate': [0.3,0.5,0.6,0.8,1.0],'XGB__max_depth':[6]}]\n",
        "cv=StratifiedKFold(n_splits=3)"
      ],
      "metadata": {
        "id": "VCsoxrQ44veo"
      },
      "execution_count": 184,
      "outputs": []
    },
    {
      "cell_type": "code",
      "source": [
        "lr_grid_search = GridSearchCV(estimator=pipe_lr,\n",
        "        param_grid=lr_param_grid,\n",
        "        scoring='roc_auc',\n",
        "        cv=cv)\n",
        "rf_grid_search = GridSearchCV(estimator=pipe_rf,\n",
        "        param_grid=rf_param_grid,\n",
        "        scoring='roc_auc',\n",
        "        cv=cv)\n",
        "svm_grid_search = GridSearchCV(estimator=pipe_svm,\n",
        "        param_grid=svm_param_grid,\n",
        "        scoring='roc_auc',\n",
        "        cv=cv)\n",
        "xgb_grid_search = GridSearchCV(estimator=pipe_xgb,\n",
        "        param_grid=xgb_param_grid,\n",
        "        scoring='roc_auc',\n",
        "        cv=cv)"
      ],
      "metadata": {
        "id": "0bq7a2d04yQy"
      },
      "execution_count": 185,
      "outputs": []
    },
    {
      "cell_type": "code",
      "source": [
        "grids = [lr_grid_search, rf_grid_search, svm_grid_search, xgb_grid_search]\n",
        "for pipe in grids:\n",
        "    pipe.fit(x_train_,y_train_)"
      ],
      "metadata": {
        "id": "mQNJ4Y3H5-Mf"
      },
      "execution_count": 186,
      "outputs": []
    },
    {
      "cell_type": "code",
      "source": [
        "from sklearn.metrics import roc_auc_score\n",
        "grid_dict = {0: 'Logistic Regression', 1: 'Random Forest', 2: 'Support Vector Machines', 3: 'XGBoost'}\n",
        "for i, model in enumerate(grids):\n",
        "  y_predi=model.predict_proba(x_test)\n",
        "  print('{} Test Accuracy: {}'.format(grid_dict[i],roc_auc_score(y_test,y_predi,multi_class=\"ovo\")))\n",
        "  y_pred=model.predict(x_test)\n",
        "  print(classification_report(y_test,y_pred))"
      ],
      "metadata": {
        "colab": {
          "base_uri": "https://localhost:8080/"
        },
        "id": "yU9TYt_3Gub9",
        "outputId": "4ba90840-2102-460f-b6d3-5d343c17b0f0"
      },
      "execution_count": 187,
      "outputs": [
        {
          "output_type": "stream",
          "name": "stdout",
          "text": [
            "Logistic Regression Test Accuracy: 0.9999495541142838\n",
            "              precision    recall  f1-score   support\n",
            "\n",
            "           0       0.98      1.00      0.99      4748\n",
            "           1       1.00      0.99      1.00     34473\n",
            "           2       0.97      1.00      0.99      2392\n",
            "\n",
            "    accuracy                           1.00     41613\n",
            "   macro avg       0.98      1.00      0.99     41613\n",
            "weighted avg       1.00      1.00      1.00     41613\n",
            "\n",
            "Random Forest Test Accuracy: 0.997680234481877\n",
            "              precision    recall  f1-score   support\n",
            "\n",
            "           0       0.81      0.99      0.89      4748\n",
            "           1       1.00      0.96      0.98     34473\n",
            "           2       0.85      0.98      0.91      2392\n",
            "\n",
            "    accuracy                           0.96     41613\n",
            "   macro avg       0.89      0.97      0.93     41613\n",
            "weighted avg       0.97      0.96      0.96     41613\n",
            "\n",
            "Support Vector Machines Test Accuracy: 1.0\n",
            "              precision    recall  f1-score   support\n",
            "\n",
            "           0       1.00      1.00      1.00      4748\n",
            "           1       1.00      1.00      1.00     34473\n",
            "           2       1.00      1.00      1.00      2392\n",
            "\n",
            "    accuracy                           1.00     41613\n",
            "   macro avg       1.00      1.00      1.00     41613\n",
            "weighted avg       1.00      1.00      1.00     41613\n",
            "\n",
            "XGBoost Test Accuracy: 0.9998091001266994\n",
            "              precision    recall  f1-score   support\n",
            "\n",
            "           0       0.93      1.00      0.96      4748\n",
            "           1       1.00      0.99      0.99     34473\n",
            "           2       0.94      0.99      0.96      2392\n",
            "\n",
            "    accuracy                           0.99     41613\n",
            "   macro avg       0.95      0.99      0.97     41613\n",
            "weighted avg       0.99      0.99      0.99     41613\n",
            "\n"
          ]
        }
      ]
    },
    {
      "cell_type": "code",
      "source": [
        "from sklearn.metrics import ConfusionMatrixDisplay\n",
        "titles_options = [\n",
        "    (\"Confusion matrix, without normalization\", None),\n",
        "    (\"Normalized confusion matrix\", \"true\"),\n",
        "]\n",
        "for title, normalize in titles_options:\n",
        "    disp = ConfusionMatrixDisplay.from_estimator(\n",
        "        svm_grid_search,\n",
        "        x_test,\n",
        "        y_test,\n",
        "        display_labels=[\"Good\",\"Low\",\"Very low\"],\n",
        "        cmap=plt.cm.Blues,\n",
        "        normalize=normalize,\n",
        "    )\n",
        "    disp.ax_.set_title(title)\n",
        "plt.show()"
      ],
      "metadata": {
        "colab": {
          "base_uri": "https://localhost:8080/",
          "height": 573
        },
        "id": "CTNdBRiNJd9x",
        "outputId": "559f8b99-5f15-403e-f225-62b35df6ec73"
      },
      "execution_count": 192,
      "outputs": [
        {
          "output_type": "display_data",
          "data": {
            "text/plain": [
              "<Figure size 432x288 with 2 Axes>"
            ],
            "image/png": "[encoded data removed]"
          },
          "metadata": {
            "needs_background": "light"
          }
        },
        {
          "output_type": "display_data",
          "data": {
            "text/plain": [
              "<Figure size 432x288 with 2 Axes>"
            ],
            "image/png": "[encoded data removed]"
          },
          "metadata": {
            "needs_background": "light"
          }
        }
      ]
    },
    {
      "cell_type": "markdown",
      "source": [
        "**Both SVM and Logistic performs better.**"
      ],
      "metadata": {
        "id": "IPrY0NLRO6Qq"
      }
    }
  ]
}